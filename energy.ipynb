{
  "cells": [
    {
      "cell_type": "markdown",
      "metadata": {},
      "source": [
        "## Energy Consumption prediction with MLflow"
      ]
    },
    {
      "cell_type": "markdown",
      "metadata": {},
      "source": [
        "#### started the mlflow server using:\n",
        "\"\"\" mlflow server `\n",
        "  --backend-store-uri sqlite:///mlflow.db `\n",
        "   --default-artifact-root file:/C:/Users/ayakb/Desktop/MLOPS_project/artifacts `\n",
        "   --host 127.0.0.1 `\n",
        "  --port 5000 \"\"\""
      ]
    },
    {
      "cell_type": "code",
      "execution_count": 1,
      "metadata": {
        "id": "ynJAzrxzMoEi"
      },
      "outputs": [],
      "source": [
        "from pyngrok import ngrok\n",
        "import subprocess\n",
        "import pandas as pd\n",
        "import numpy as np\n",
        "from sklearn.model_selection import train_test_split\n",
        "import mlflow\n",
        "import mlflow.sklearn\n",
        "from sklearn.linear_model import LinearRegression\n",
        "from sklearn.ensemble import RandomForestRegressor\n",
        "import xgboost as xgb\n",
        "from sklearn.metrics import mean_squared_error\n",
        "import os\n",
        "from hyperopt import fmin, tpe, hp, Trials,STATUS_OK\n",
        "import requests \n",
        "from mlflow.models import infer_signature\n",
        "import json\n",
        "from sklearn.metrics import root_mean_squared_error, mean_absolute_error\n",
        "from sklearn.svm import SVR"
      ]
    },
    {
      "cell_type": "markdown",
      "metadata": {},
      "source": [
        "### Data preprocessing:\n",
        "- loaded data.\n",
        "- transformed 'Date' and 'Time' into a single datetime type column.\n",
        "- resampled by daily Global active power instead of hourly.\n",
        "- added lag features\n",
        "- split data 80/20"
      ]
    },
    {
      "cell_type": "code",
      "execution_count": 2,
      "metadata": {
        "colab": {
          "base_uri": "https://localhost:8080/"
        },
        "id": "eygvzj6aKAED",
        "outputId": "01479620-0c29-4fb9-ae10-e09e16961ea7"
      },
      "outputs": [
        {
          "name": "stderr",
          "output_type": "stream",
          "text": [
            "c:\\Users\\ayakb\\Desktop\\MLOPS_project\\.venv\\Lib\\site-packages\\ucimlrepo\\fetch.py:97: DtypeWarning: Columns (2,3,4,5,6,7) have mixed types. Specify dtype option on import or set low_memory=False.\n",
            "  df = pd.read_csv(data_url)\n"
          ]
        },
        {
          "name": "stdout",
          "output_type": "stream",
          "text": [
            "{'uci_id': 235, 'name': 'Individual Household Electric Power Consumption', 'repository_url': 'https://archive.ics.uci.edu/dataset/235/individual+household+electric+power+consumption', 'data_url': 'https://archive.ics.uci.edu/static/public/235/data.csv', 'abstract': 'Measurements of electric power consumption in one household with a one-minute sampling rate over a period of almost 4 years. Different electrical quantities and some sub-metering values are available.', 'area': 'Physics and Chemistry', 'tasks': ['Regression', 'Clustering'], 'characteristics': ['Multivariate', 'Time-Series'], 'num_instances': 2075259, 'num_features': 9, 'feature_types': ['Real'], 'demographics': [], 'target_col': None, 'index_col': None, 'has_missing_values': 'no', 'missing_values_symbol': None, 'year_of_dataset_creation': 2006, 'last_updated': 'Fri Mar 08 2024', 'dataset_doi': '10.24432/C58K54', 'creators': ['Georges Hebrail', 'Alice Berard'], 'intro_paper': None, 'additional_info': {'summary': 'This archive contains 2075259 measurements gathered in a house located in Sceaux (7km of Paris, France) between December 2006 and November 2010 (47 months).\\r\\nNotes: \\r\\n1.(global_active_power*1000/60 - sub_metering_1 - sub_metering_2 - sub_metering_3) represents the active energy consumed every minute (in watt hour) in the household by electrical equipment not measured in sub-meterings 1, 2 and 3.\\r\\n2.The dataset contains some missing values in the measurements (nearly 1,25% of the rows). All calendar timestamps are present in the dataset but for some timestamps, the measurement values are missing: a missing value is represented by the absence of value between two consecutive semi-colon attribute separators. For instance, the dataset shows missing values on April 28, 2007.', 'purpose': None, 'funded_by': None, 'instances_represent': None, 'recommended_data_splits': None, 'sensitive_data': None, 'preprocessing_description': None, 'variable_info': '1.date: Date in format dd/mm/yyyy\\r\\n2.time: time in format hh:mm:ss\\r\\n3.global_active_power: household global minute-averaged active power (in kilowatt)\\r\\n4.global_reactive_power: household global minute-averaged reactive power (in kilowatt)\\r\\n5.voltage: minute-averaged voltage (in volt)\\r\\n6.global_intensity: household global minute-averaged current intensity (in ampere)\\r\\n7.sub_metering_1: energy sub-metering No. 1 (in watt-hour of active energy). It corresponds to the kitchen, containing mainly a dishwasher, an oven and a microwave (hot plates are not electric but gas powered).\\r\\n8.sub_metering_2: energy sub-metering No. 2 (in watt-hour of active energy). It corresponds to the laundry room, containing a washing-machine, a tumble-drier, a refrigerator and a light.\\r\\n9.sub_metering_3: energy sub-metering No. 3 (in watt-hour of active energy). It corresponds to an electric water-heater and an air-conditioner.', 'citation': None}}\n",
            "                    name     role         type demographic description units  \\\n",
            "0                   Date  Feature         Date        None        None  None   \n",
            "1                   Time  Feature  Categorical        None        None  None   \n",
            "2    Global_active_power  Feature   Continuous        None        None  None   \n",
            "3  Global_reactive_power  Feature   Continuous        None        None  None   \n",
            "4                Voltage  Feature   Continuous        None        None  None   \n",
            "5       Global_intensity  Feature   Continuous        None        None  None   \n",
            "6         Sub_metering_1  Feature   Continuous        None        None  None   \n",
            "7         Sub_metering_2  Feature   Continuous        None        None  None   \n",
            "8         Sub_metering_3  Feature   Continuous        None        None  None   \n",
            "\n",
            "  missing_values  \n",
            "0             no  \n",
            "1             no  \n",
            "2             no  \n",
            "3             no  \n",
            "4             no  \n",
            "5             no  \n",
            "6             no  \n",
            "7             no  \n",
            "8             no  \n"
          ]
        }
      ],
      "source": [
        "from ucimlrepo import fetch_ucirepo\n",
        "# fetch dataset\n",
        "individual_household_electric_power_consumption = fetch_ucirepo(id=235)\n",
        "\n",
        "# data (as pandas dataframes)\n",
        "df = individual_household_electric_power_consumption.data.features\n",
        "\n",
        "# metadata\n",
        "print(individual_household_electric_power_consumption.metadata)\n",
        "\n",
        "# variable information\n",
        "print(individual_household_electric_power_consumption.variables)\n"
      ]
    },
    {
      "cell_type": "code",
      "execution_count": null,
      "metadata": {
        "id": "Yo5qHUmOLC71"
      },
      "outputs": [],
      "source": [
        "#Transform Date and Time column to a single datetime type column\n",
        "df[\"datetime\"]=pd.to_datetime(df['Date']+ \" \" + df['Time'],format=\"%d/%m/%Y %H:%M:%S\")\n",
        "df.set_index(\"datetime\",inplace=True)\n",
        "df.drop(columns=[\"Date\",\"Time\"],inplace=True)"
      ]
    },
    {
      "cell_type": "code",
      "execution_count": null,
      "metadata": {
        "id": "rFiZDP5WPZa-"
      },
      "outputs": [],
      "source": [
        "#make sur all data is numeric\n",
        "df = df.apply(pd.to_numeric, errors='coerce')"
      ]
    },
    {
      "cell_type": "code",
      "execution_count": null,
      "metadata": {
        "id": "-vtT-ftxLEL0"
      },
      "outputs": [],
      "source": [
        "#resample data for daily consumption instead of hourly\n",
        "df_daily = df.resample('D').mean()"
      ]
    },
    {
      "cell_type": "code",
      "execution_count": 6,
      "metadata": {
        "colab": {
          "base_uri": "https://localhost:8080/",
          "height": 237
        },
        "id": "BqPLJ3F-N1S-",
        "outputId": "3283b8c3-89c4-4371-a2c5-dce6ed2c935a"
      },
      "outputs": [
        {
          "data": {
            "text/html": [
              "<div>\n",
              "<style scoped>\n",
              "    .dataframe tbody tr th:only-of-type {\n",
              "        vertical-align: middle;\n",
              "    }\n",
              "\n",
              "    .dataframe tbody tr th {\n",
              "        vertical-align: top;\n",
              "    }\n",
              "\n",
              "    .dataframe thead th {\n",
              "        text-align: right;\n",
              "    }\n",
              "</style>\n",
              "<table border=\"1\" class=\"dataframe\">\n",
              "  <thead>\n",
              "    <tr style=\"text-align: right;\">\n",
              "      <th></th>\n",
              "      <th>Global_active_power</th>\n",
              "      <th>Global_reactive_power</th>\n",
              "      <th>Voltage</th>\n",
              "      <th>Global_intensity</th>\n",
              "      <th>Sub_metering_1</th>\n",
              "      <th>Sub_metering_2</th>\n",
              "      <th>Sub_metering_3</th>\n",
              "    </tr>\n",
              "    <tr>\n",
              "      <th>datetime</th>\n",
              "      <th></th>\n",
              "      <th></th>\n",
              "      <th></th>\n",
              "      <th></th>\n",
              "      <th></th>\n",
              "      <th></th>\n",
              "      <th></th>\n",
              "    </tr>\n",
              "  </thead>\n",
              "  <tbody>\n",
              "    <tr>\n",
              "      <th>2006-12-16</th>\n",
              "      <td>3.053475</td>\n",
              "      <td>0.088187</td>\n",
              "      <td>236.243763</td>\n",
              "      <td>13.082828</td>\n",
              "      <td>0.000000</td>\n",
              "      <td>1.378788</td>\n",
              "      <td>12.439394</td>\n",
              "    </tr>\n",
              "    <tr>\n",
              "      <th>2006-12-17</th>\n",
              "      <td>2.354486</td>\n",
              "      <td>0.156949</td>\n",
              "      <td>240.087028</td>\n",
              "      <td>9.999028</td>\n",
              "      <td>1.411806</td>\n",
              "      <td>2.907639</td>\n",
              "      <td>9.264583</td>\n",
              "    </tr>\n",
              "    <tr>\n",
              "      <th>2006-12-18</th>\n",
              "      <td>1.530435</td>\n",
              "      <td>0.112356</td>\n",
              "      <td>241.231694</td>\n",
              "      <td>6.421667</td>\n",
              "      <td>0.738194</td>\n",
              "      <td>1.820139</td>\n",
              "      <td>9.734722</td>\n",
              "    </tr>\n",
              "    <tr>\n",
              "      <th>2006-12-19</th>\n",
              "      <td>1.157079</td>\n",
              "      <td>0.104821</td>\n",
              "      <td>241.999313</td>\n",
              "      <td>4.926389</td>\n",
              "      <td>0.582639</td>\n",
              "      <td>5.279167</td>\n",
              "      <td>4.303472</td>\n",
              "    </tr>\n",
              "    <tr>\n",
              "      <th>2006-12-20</th>\n",
              "      <td>1.545658</td>\n",
              "      <td>0.111804</td>\n",
              "      <td>242.308062</td>\n",
              "      <td>6.467361</td>\n",
              "      <td>0.000000</td>\n",
              "      <td>1.838889</td>\n",
              "      <td>9.765972</td>\n",
              "    </tr>\n",
              "  </tbody>\n",
              "</table>\n",
              "</div>"
            ],
            "text/plain": [
              "            Global_active_power  Global_reactive_power     Voltage  \\\n",
              "datetime                                                             \n",
              "2006-12-16             3.053475               0.088187  236.243763   \n",
              "2006-12-17             2.354486               0.156949  240.087028   \n",
              "2006-12-18             1.530435               0.112356  241.231694   \n",
              "2006-12-19             1.157079               0.104821  241.999313   \n",
              "2006-12-20             1.545658               0.111804  242.308062   \n",
              "\n",
              "            Global_intensity  Sub_metering_1  Sub_metering_2  Sub_metering_3  \n",
              "datetime                                                                      \n",
              "2006-12-16         13.082828        0.000000        1.378788       12.439394  \n",
              "2006-12-17          9.999028        1.411806        2.907639        9.264583  \n",
              "2006-12-18          6.421667        0.738194        1.820139        9.734722  \n",
              "2006-12-19          4.926389        0.582639        5.279167        4.303472  \n",
              "2006-12-20          6.467361        0.000000        1.838889        9.765972  "
            ]
          },
          "execution_count": 6,
          "metadata": {},
          "output_type": "execute_result"
        }
      ],
      "source": [
        "df_daily.head()"
      ]
    },
    {
      "cell_type": "code",
      "execution_count": null,
      "metadata": {
        "id": "5Jd28qByPjaz"
      },
      "outputs": [],
      "source": [
        "#added 2 lag features to simulate trends\n",
        "df_daily[\"lag_1\"]=df_daily['Global_active_power'].shift(1)\n",
        "df_daily[\"lag_2\"]=df_daily['Global_active_power'].shift(2)\n",
        "df_daily.dropna(inplace=True)"
      ]
    },
    {
      "cell_type": "code",
      "execution_count": 8,
      "metadata": {},
      "outputs": [
        {
          "data": {
            "text/html": [
              "<div>\n",
              "<style scoped>\n",
              "    .dataframe tbody tr th:only-of-type {\n",
              "        vertical-align: middle;\n",
              "    }\n",
              "\n",
              "    .dataframe tbody tr th {\n",
              "        vertical-align: top;\n",
              "    }\n",
              "\n",
              "    .dataframe thead th {\n",
              "        text-align: right;\n",
              "    }\n",
              "</style>\n",
              "<table border=\"1\" class=\"dataframe\">\n",
              "  <thead>\n",
              "    <tr style=\"text-align: right;\">\n",
              "      <th></th>\n",
              "      <th>Global_active_power</th>\n",
              "      <th>Global_reactive_power</th>\n",
              "      <th>Voltage</th>\n",
              "      <th>Global_intensity</th>\n",
              "      <th>Sub_metering_1</th>\n",
              "      <th>Sub_metering_2</th>\n",
              "      <th>Sub_metering_3</th>\n",
              "      <th>lag_1</th>\n",
              "      <th>lag_2</th>\n",
              "    </tr>\n",
              "    <tr>\n",
              "      <th>datetime</th>\n",
              "      <th></th>\n",
              "      <th></th>\n",
              "      <th></th>\n",
              "      <th></th>\n",
              "      <th></th>\n",
              "      <th></th>\n",
              "      <th></th>\n",
              "      <th></th>\n",
              "      <th></th>\n",
              "    </tr>\n",
              "  </thead>\n",
              "  <tbody>\n",
              "    <tr>\n",
              "      <th>2006-12-18</th>\n",
              "      <td>1.530435</td>\n",
              "      <td>0.112356</td>\n",
              "      <td>241.231694</td>\n",
              "      <td>6.421667</td>\n",
              "      <td>0.738194</td>\n",
              "      <td>1.820139</td>\n",
              "      <td>9.734722</td>\n",
              "      <td>2.354486</td>\n",
              "      <td>3.053475</td>\n",
              "    </tr>\n",
              "    <tr>\n",
              "      <th>2006-12-19</th>\n",
              "      <td>1.157079</td>\n",
              "      <td>0.104821</td>\n",
              "      <td>241.999313</td>\n",
              "      <td>4.926389</td>\n",
              "      <td>0.582639</td>\n",
              "      <td>5.279167</td>\n",
              "      <td>4.303472</td>\n",
              "      <td>1.530435</td>\n",
              "      <td>2.354486</td>\n",
              "    </tr>\n",
              "    <tr>\n",
              "      <th>2006-12-20</th>\n",
              "      <td>1.545658</td>\n",
              "      <td>0.111804</td>\n",
              "      <td>242.308062</td>\n",
              "      <td>6.467361</td>\n",
              "      <td>0.000000</td>\n",
              "      <td>1.838889</td>\n",
              "      <td>9.765972</td>\n",
              "      <td>1.157079</td>\n",
              "      <td>1.530435</td>\n",
              "    </tr>\n",
              "    <tr>\n",
              "      <th>2006-12-21</th>\n",
              "      <td>1.193758</td>\n",
              "      <td>0.100255</td>\n",
              "      <td>241.040549</td>\n",
              "      <td>5.033797</td>\n",
              "      <td>1.227399</td>\n",
              "      <td>1.824061</td>\n",
              "      <td>7.246871</td>\n",
              "      <td>1.545658</td>\n",
              "      <td>1.157079</td>\n",
              "    </tr>\n",
              "    <tr>\n",
              "      <th>2006-12-22</th>\n",
              "      <td>1.625929</td>\n",
              "      <td>0.129796</td>\n",
              "      <td>241.184549</td>\n",
              "      <td>6.872917</td>\n",
              "      <td>2.188194</td>\n",
              "      <td>0.243056</td>\n",
              "      <td>7.729861</td>\n",
              "      <td>1.193758</td>\n",
              "      <td>1.545658</td>\n",
              "    </tr>\n",
              "  </tbody>\n",
              "</table>\n",
              "</div>"
            ],
            "text/plain": [
              "            Global_active_power  Global_reactive_power     Voltage  \\\n",
              "datetime                                                             \n",
              "2006-12-18             1.530435               0.112356  241.231694   \n",
              "2006-12-19             1.157079               0.104821  241.999313   \n",
              "2006-12-20             1.545658               0.111804  242.308062   \n",
              "2006-12-21             1.193758               0.100255  241.040549   \n",
              "2006-12-22             1.625929               0.129796  241.184549   \n",
              "\n",
              "            Global_intensity  Sub_metering_1  Sub_metering_2  Sub_metering_3  \\\n",
              "datetime                                                                       \n",
              "2006-12-18          6.421667        0.738194        1.820139        9.734722   \n",
              "2006-12-19          4.926389        0.582639        5.279167        4.303472   \n",
              "2006-12-20          6.467361        0.000000        1.838889        9.765972   \n",
              "2006-12-21          5.033797        1.227399        1.824061        7.246871   \n",
              "2006-12-22          6.872917        2.188194        0.243056        7.729861   \n",
              "\n",
              "               lag_1     lag_2  \n",
              "datetime                        \n",
              "2006-12-18  2.354486  3.053475  \n",
              "2006-12-19  1.530435  2.354486  \n",
              "2006-12-20  1.157079  1.530435  \n",
              "2006-12-21  1.545658  1.157079  \n",
              "2006-12-22  1.193758  1.545658  "
            ]
          },
          "execution_count": 8,
          "metadata": {},
          "output_type": "execute_result"
        }
      ],
      "source": [
        "df_daily.head()"
      ]
    },
    {
      "cell_type": "code",
      "execution_count": 9,
      "metadata": {
        "id": "j6kpVecXYaGu"
      },
      "outputs": [],
      "source": [
        "X=df_daily.drop(columns=[\"Global_active_power\"])\n",
        "y=df_daily[\"Global_active_power\"]"
      ]
    },
    {
      "cell_type": "code",
      "execution_count": null,
      "metadata": {
        "id": "xTK_U3KzYevJ"
      },
      "outputs": [],
      "source": [
        "#data split 80/20\n",
        "X_train, X_test, y_train, y_test = train_test_split(\n",
        "    X, y, test_size=0.2\n",
        ")"
      ]
    },
    {
      "cell_type": "markdown",
      "metadata": {},
      "source": [
        "### Model training and hyperparameter tuning:\n",
        "- Initialized spaces for model traing and hyperparameter tuning.\n",
        "- logged metrics,parameters, and model artifacts to MLflow.\n",
        "- combared the best performing models using a histogram.\n",
        "- best performing model was linear regression.\n",
        "- saved the best model for regitry."
      ]
    },
    {
      "cell_type": "code",
      "execution_count": null,
      "metadata": {},
      "outputs": [],
      "source": [
        "# initialize models\n",
        "models={\n",
        "    \"LinearRegression\":LinearRegression(),\n",
        "    \"XGBoost\":xgb.XGBRegressor(n_estimators=100,\n",
        "        max_depth=6,\n",
        "        learning_rate=0.1,\n",
        "        subsample=0.8,\n",
        "        colsample_bytree=0.8,\n",
        "        random_state=42),\n",
        "    \"RandomForest\":RandomForestRegressor(n_estimators=100,\n",
        "        max_depth=10,\n",
        "        min_samples_split=5,\n",
        "        min_samples_leaf=2,\n",
        "        max_features='sqrt',\n",
        "        random_state=42),\n",
        "    \"SVR\":SVR(kernel='rbf',\n",
        "        C=10,\n",
        "        epsilon=0.2,\n",
        "        gamma='scale')\n",
        "}"
      ]
    },
    {
      "cell_type": "code",
      "execution_count": 12,
      "metadata": {},
      "outputs": [
        {
          "data": {
            "text/plain": [
              "<Experiment: artifact_location='file:///C:/Users/ayakb/Desktop/MLOPS_project/artifacts/1', creation_time=1745753855145, experiment_id='1', last_update_time=1745753855145, lifecycle_stage='active', name='MLOPS_project', tags={}>"
            ]
          },
          "execution_count": 12,
          "metadata": {},
          "output_type": "execute_result"
        }
      ],
      "source": [
        "mlflow.set_tracking_uri(uri=\"http://127.0.0.1:5000\")\n",
        "mlflow.set_experiment(\"MLOPS_project\")"
      ]
    },
    {
      "cell_type": "code",
      "execution_count": 13,
      "metadata": {},
      "outputs": [],
      "source": [
        "import os\n",
        "os.environ[\"GIT_PYTHON_REFRESH\"] = \"quiet\""
      ]
    },
    {
      "cell_type": "code",
      "execution_count": 14,
      "metadata": {},
      "outputs": [
        {
          "name": "stderr",
          "output_type": "stream",
          "text": [
            "c:\\Users\\ayakb\\Desktop\\MLOPS_project\\.venv\\Lib\\site-packages\\tqdm\\auto.py:21: TqdmWarning: IProgress not found. Please update jupyter and ipywidgets. See https://ipywidgets.readthedocs.io/en/stable/user_install.html\n",
            "  from .autonotebook import tqdm as notebook_tqdm\n",
            "Downloading artifacts: 100%|██████████| 7/7 [00:00<00:00, 874.13it/s] \n"
          ]
        },
        {
          "name": "stdout",
          "output_type": "stream",
          "text": [
            "LinearRegression → RMSE: 0.00979620332355225\n",
            "LinearRegression → MSE: 9.596559955637618e-05\n",
            "LinearRegression → MAE: 0.007302941183021884\n",
            "🏃 View run LinearRegression at: http://127.0.0.1:5000/#/experiments/1/runs/434944fb82674703be26d8af95db6fc0\n",
            "🧪 View experiment at: http://127.0.0.1:5000/#/experiments/1\n"
          ]
        },
        {
          "name": "stderr",
          "output_type": "stream",
          "text": [
            "Downloading artifacts: 100%|██████████| 7/7 [00:00<00:00, 1381.46it/s]\n"
          ]
        },
        {
          "name": "stdout",
          "output_type": "stream",
          "text": [
            "XGBoost → RMSE: 0.045326507051039557\n",
            "XGBoost → MSE: 0.0020544922414479387\n",
            "XGBoost → MAE: 0.02985203428564949\n",
            "🏃 View run XGBoost at: http://127.0.0.1:5000/#/experiments/1/runs/1582051bd1ca45459b5aa51ef5306b2c\n",
            "🧪 View experiment at: http://127.0.0.1:5000/#/experiments/1\n"
          ]
        },
        {
          "name": "stderr",
          "output_type": "stream",
          "text": [
            "Downloading artifacts: 100%|██████████| 7/7 [00:00<00:00, 1098.15it/s]\n"
          ]
        },
        {
          "name": "stdout",
          "output_type": "stream",
          "text": [
            "RandomForest → RMSE: 0.07423069694619253\n",
            "RandomForest → MSE: 0.005510196369117476\n",
            "RandomForest → MAE: 0.04341174295570888\n",
            "🏃 View run RandomForest at: http://127.0.0.1:5000/#/experiments/1/runs/f4164b6bc2c04dce9ad182ee457cacec\n",
            "🧪 View experiment at: http://127.0.0.1:5000/#/experiments/1\n"
          ]
        },
        {
          "name": "stderr",
          "output_type": "stream",
          "text": [
            "Downloading artifacts: 100%|██████████| 7/7 [00:00<00:00, 1346.24it/s]\n"
          ]
        },
        {
          "name": "stdout",
          "output_type": "stream",
          "text": [
            "SVR → RMSE: 0.13241173183354982\n",
            "SVR → MSE: 0.017532866727159913\n",
            "SVR → MAE: 0.1041680183235914\n",
            "🏃 View run SVR at: http://127.0.0.1:5000/#/experiments/1/runs/8af097308cf24ee48ee00040b348b4fb\n",
            "🧪 View experiment at: http://127.0.0.1:5000/#/experiments/1\n"
          ]
        }
      ],
      "source": [
        "for model_name, model in models.items():\n",
        "    with mlflow.start_run(run_name=model_name):\n",
        "        # Train\n",
        "        model.fit(X_train, y_train)\n",
        "        preds = model.predict(X_test)\n",
        "        rmse = root_mean_squared_error(y_test, preds)\n",
        "        mae=mean_absolute_error(y_test,preds)\n",
        "        mse=mean_squared_error(y_test,preds)\n",
        "\n",
        "        # Log metadata\n",
        "        mlflow.log_param(\"model\", model_name)\n",
        "        if hasattr(model, 'get_params'):\n",
        "            for param, value in model.get_params().items():\n",
        "                mlflow.log_param(param, value)\n",
        "\n",
        "        mlflow.log_metric(\"rmse\", rmse)\n",
        "        mlflow.log_metric(\"mse\",mse)\n",
        "        mlflow.log_metric(\"mae\",mae)\n",
        "        signature = infer_signature(X_train,preds)\n",
        "        mlflow.sklearn.log_model(model, \"model\",signature=signature,input_example=X_train)\n",
        "\n",
        "        print(f\"{model_name} → RMSE: {rmse}\")\n",
        "        print(f\"{model_name} → MSE: {mse}\")\n",
        "        print(f\"{model_name} → MAE: {mae}\")"
      ]
    },
    {
      "cell_type": "code",
      "execution_count": null,
      "metadata": {},
      "outputs": [],
      "source": [
        "# space for hyperparameter tuning\n",
        "model_params = {\n",
        "    \"LinearRegression\":{\n",
        "        \"model\":LinearRegression,\n",
        "        \"space\":{}\n",
        "    },\n",
        "    \"RandomForest\": {\n",
        "        \"model\": RandomForestRegressor,\n",
        "        \"space\": {\n",
        "            \"n_estimators\": hp.choice(\"n_estimators\", [100, 200, 300]),\n",
        "            \"max_depth\": hp.choice(\"max_depth\", [5, 10, 15, None]),\n",
        "            \"min_samples_split\": hp.uniform(\"min_samples_split\", 0.01, 0.1),\n",
        "            \"min_samples_leaf\": hp.uniform(\"min_samples_leaf\", 0.01, 0.1)\n",
        "        }\n",
        "    },\n",
        "    \"SVR\": {\n",
        "        \"model\": SVR,\n",
        "        \"space\": {\n",
        "            \"C\": hp.loguniform(\"C\", np.log(0.1), np.log(100)),\n",
        "            \"epsilon\": hp.uniform(\"epsilon\", 0.01, 0.2),\n",
        "            \"kernel\": hp.choice(\"kernel\", [\"rbf\", \"linear\"])\n",
        "        }\n",
        "    },\n",
        "    \"XGBoost\": {\n",
        "        \"model\": xgb.XGBRegressor,\n",
        "        \"space\": {\n",
        "            \"learning_rate\": hp.uniform(\"learning_rate\", 0.01, 0.3),\n",
        "            \"max_depth\": hp.choice(\"max_depth\", [3, 6, 10]),\n",
        "            \"n_estimators\": hp.choice(\"n_estimators\", [100, 200, 300]),\n",
        "            \"subsample\": hp.uniform(\"subsample\", 0.6, 1.0),\n",
        "            \"colsample_bytree\": hp.uniform(\"colsample_bytree\", 0.6, 1.0)\n",
        "        }\n",
        "    }\n",
        "}"
      ]
    },
    {
      "cell_type": "code",
      "execution_count": 36,
      "metadata": {},
      "outputs": [],
      "source": [
        "mlflow.end_run()"
      ]
    },
    {
      "cell_type": "code",
      "execution_count": null,
      "metadata": {},
      "outputs": [
        {
          "name": "stdout",
          "output_type": "stream",
          "text": [
            "\n",
            "🔍 Tuning: LinearRegression\n"
          ]
        },
        {
          "name": "stderr",
          "output_type": "stream",
          "text": [
            "Downloading artifacts: 100%|██████████| 7/7 [00:00<00:00, 2333.13it/s]\n"
          ]
        },
        {
          "name": "stdout",
          "output_type": "stream",
          "text": [
            "🏃 View run LinearRegression_tuning at: http://127.0.0.1:5000/#/experiments/184415391709998126/runs/44410bc693b740fb93eda45a08ebfdb9\n",
            "🧪 View experiment at: http://127.0.0.1:5000/#/experiments/184415391709998126\n",
            "\n",
            "🔍 Tuning: RandomForest\n",
            "  0%|          | 0/25 [00:00<?, ?trial/s, best loss=?]"
          ]
        },
        {
          "name": "stderr",
          "output_type": "stream",
          "text": [
            "Downloading artifacts:   0%|          | 0/7 [00:00<?, ?it/s]\n",
            "Downloading artifacts:  14%|#4        | 1/7 [00:00<?, ?it/s]\n",
            "Downloading artifacts:  29%|##8       | 2/7 [00:00<00:00, 2012.14it/s]\n",
            "Downloading artifacts:  43%|####2     | 3/7 [00:00<00:00, 1502.44it/s]\n",
            "Downloading artifacts:  57%|#####7    | 4/7 [00:00<00:00, 1333.22it/s]\n",
            "Downloading artifacts:  71%|#######1  | 5/7 [00:00<00:00, 1255.10it/s]\n",
            "Downloading artifacts:  86%|########5 | 6/7 [00:00<00:00, 1506.12it/s]\n",
            "Downloading artifacts: 100%|##########| 7/7 [00:00<00:00, 1403.11it/s]\n",
            "Downloading artifacts: 100%|##########| 7/7 [00:00<00:00, 1403.11it/s]\n"
          ]
        },
        {
          "name": "stdout",
          "output_type": "stream",
          "text": [
            "🏃 View run RandomForest_trial at: http://127.0.0.1:5000/#/experiments/184415391709998126/runs/14a0b697103c417db10be739e3550b5b\n",
            "\n",
            "🧪 View experiment at: http://127.0.0.1:5000/#/experiments/184415391709998126\n",
            "\n",
            "  4%|▍         | 1/25 [00:03<01:25,  3.57s/trial, best loss: 0.036799944033873544]"
          ]
        },
        {
          "name": "stderr",
          "output_type": "stream",
          "text": [
            "Downloading artifacts:   0%|          | 0/7 [00:00<?, ?it/s]\n",
            "Downloading artifacts:  14%|#4        | 1/7 [00:00<?, ?it/s]\n",
            "Downloading artifacts:  29%|##8       | 2/7 [00:00<00:00, 2001.58it/s]\n",
            "Downloading artifacts:  43%|####2     | 3/7 [00:00<00:00, 1501.00it/s]\n",
            "Downloading artifacts:  57%|#####7    | 4/7 [00:00<00:00, 1331.42it/s]\n",
            "Downloading artifacts:  71%|#######1  | 5/7 [00:00<00:00, 1250.61it/s]\n",
            "Downloading artifacts:  86%|########5 | 6/7 [00:00<00:00, 1500.73it/s]\n",
            "Downloading artifacts: 100%|##########| 7/7 [00:00<00:00, 1400.37it/s]\n",
            "Downloading artifacts: 100%|##########| 7/7 [00:00<00:00, 1166.89it/s]\n"
          ]
        },
        {
          "name": "stdout",
          "output_type": "stream",
          "text": [
            "🏃 View run RandomForest_trial at: http://127.0.0.1:5000/#/experiments/184415391709998126/runs/0fd296a69d594e5cbc0af7f991a46e2d\n",
            "\n",
            "🧪 View experiment at: http://127.0.0.1:5000/#/experiments/184415391709998126     \n",
            "\n",
            "  8%|▊         | 2/25 [00:06<01:19,  3.46s/trial, best loss: 0.036799944033873544]"
          ]
        },
        {
          "name": "stderr",
          "output_type": "stream",
          "text": [
            "Downloading artifacts:   0%|          | 0/7 [00:00<?, ?it/s]\n",
            "Downloading artifacts:  14%|#4        | 1/7 [00:00<00:00, 1001.27it/s]\n",
            "Downloading artifacts:  29%|##8       | 2/7 [00:00<00:00, 1002.94it/s]\n",
            "Downloading artifacts:  43%|####2     | 3/7 [00:00<00:00, 1504.41it/s]\n",
            "Downloading artifacts:  57%|#####7    | 4/7 [00:00<00:00, 1296.34it/s]\n",
            "Downloading artifacts:  71%|#######1  | 5/7 [00:00<00:00, 1222.54it/s]\n",
            "Downloading artifacts:  86%|########5 | 6/7 [00:00<00:00, 1178.67it/s]\n",
            "Downloading artifacts: 100%|##########| 7/7 [00:00<00:00, 1149.35it/s]\n",
            "Downloading artifacts: 100%|##########| 7/7 [00:00<00:00, 1149.35it/s]\n"
          ]
        },
        {
          "name": "stdout",
          "output_type": "stream",
          "text": [
            "🏃 View run RandomForest_trial at: http://127.0.0.1:5000/#/experiments/184415391709998126/runs/d1fd7adeddcf46b0bd389b018b868235\n",
            "\n",
            "🧪 View experiment at: http://127.0.0.1:5000/#/experiments/184415391709998126     \n",
            "\n",
            " 12%|█▏        | 3/25 [00:10<01:13,  3.36s/trial, best loss: 0.036799944033873544]"
          ]
        },
        {
          "name": "stderr",
          "output_type": "stream",
          "text": [
            "Downloading artifacts:   0%|          | 0/7 [00:00<?, ?it/s]\n",
            "Downloading artifacts:  14%|#4        | 1/7 [00:00<?, ?it/s]\n",
            "Downloading artifacts:  29%|##8       | 2/7 [00:00<00:00, 2261.08it/s]\n",
            "Downloading artifacts:  43%|####2     | 3/7 [00:00<00:00, 1448.64it/s]\n",
            "Downloading artifacts:  57%|#####7    | 4/7 [00:00<00:00, 1931.52it/s]\n",
            "Downloading artifacts:  71%|#######1  | 5/7 [00:00<00:00, 1628.60it/s]\n",
            "Downloading artifacts:  86%|########5 | 6/7 [00:00<00:00, 1474.36it/s]\n",
            "Downloading artifacts: 100%|##########| 7/7 [00:00<00:00, 1380.81it/s]\n",
            "Downloading artifacts: 100%|##########| 7/7 [00:00<00:00, 1380.81it/s]\n"
          ]
        },
        {
          "name": "stdout",
          "output_type": "stream",
          "text": [
            "🏃 View run RandomForest_trial at: http://127.0.0.1:5000/#/experiments/184415391709998126/runs/ad44b424641549789a1adf8409e6f73d\n",
            "\n",
            "🧪 View experiment at: http://127.0.0.1:5000/#/experiments/184415391709998126     \n",
            "\n",
            " 16%|█▌        | 4/25 [00:13<01:11,  3.42s/trial, best loss: 0.036799944033873544]"
          ]
        },
        {
          "name": "stderr",
          "output_type": "stream",
          "text": [
            "Downloading artifacts:   0%|          | 0/7 [00:00<?, ?it/s]\n",
            "Downloading artifacts:  14%|#4        | 1/7 [00:00<?, ?it/s]\n",
            "Downloading artifacts:  29%|##8       | 2/7 [00:00<00:00, 2000.14it/s]\n",
            "Downloading artifacts:  43%|####2     | 3/7 [00:00<00:00, 1499.75it/s]\n",
            "Downloading artifacts:  57%|#####7    | 4/7 [00:00<00:00, 1332.90it/s]\n",
            "Downloading artifacts:  71%|#######1  | 5/7 [00:00<00:00, 1250.02it/s]\n",
            "Downloading artifacts:  86%|########5 | 6/7 [00:00<00:00, 1500.02it/s]\n",
            "Downloading artifacts: 100%|##########| 7/7 [00:00<00:00, 1358.01it/s]\n",
            "Downloading artifacts: 100%|##########| 7/7 [00:00<00:00, 1136.36it/s]\n"
          ]
        },
        {
          "name": "stdout",
          "output_type": "stream",
          "text": [
            "🏃 View run RandomForest_trial at: http://127.0.0.1:5000/#/experiments/184415391709998126/runs/9fc3bf4b9d144fc0a2611460f35c3e4c\n",
            "\n",
            "🧪 View experiment at: http://127.0.0.1:5000/#/experiments/184415391709998126     \n",
            "\n",
            " 20%|██        | 5/25 [00:17<01:08,  3.44s/trial, best loss: 0.036799944033873544]"
          ]
        },
        {
          "name": "stderr",
          "output_type": "stream",
          "text": [
            "Downloading artifacts:   0%|          | 0/7 [00:00<?, ?it/s]\n",
            "Downloading artifacts:  14%|#4        | 1/7 [00:00<?, ?it/s]\n",
            "Downloading artifacts:  29%|##8       | 2/7 [00:00<00:00, 1997.76it/s]\n",
            "Downloading artifacts:  43%|####2     | 3/7 [00:00<00:00, 1499.93it/s]\n",
            "Downloading artifacts:  57%|#####7    | 4/7 [00:00<00:00, 1999.91it/s]\n",
            "Downloading artifacts:  71%|#######1  | 5/7 [00:00<00:00, 1666.92it/s]\n",
            "Downloading artifacts:  86%|########5 | 6/7 [00:00<00:00, 1500.20it/s]\n",
            "Downloading artifacts: 100%|##########| 7/7 [00:00<00:00, 1750.23it/s]\n",
            "Downloading artifacts: 100%|##########| 7/7 [00:00<00:00, 1399.97it/s]\n"
          ]
        },
        {
          "name": "stdout",
          "output_type": "stream",
          "text": [
            "🏃 View run RandomForest_trial at: http://127.0.0.1:5000/#/experiments/184415391709998126/runs/ae4fe0a05bb449a0a0cdbeb0e1fcc894\n",
            "\n",
            "🧪 View experiment at: http://127.0.0.1:5000/#/experiments/184415391709998126     \n",
            "\n",
            " 24%|██▍       | 6/25 [00:20<01:04,  3.42s/trial, best loss: 0.036799944033873544]"
          ]
        },
        {
          "name": "stderr",
          "output_type": "stream",
          "text": [
            "Downloading artifacts:   0%|          | 0/7 [00:00<?, ?it/s]\n",
            "Downloading artifacts:  14%|#4        | 1/7 [00:00<?, ?it/s]\n",
            "Downloading artifacts:  29%|##8       | 2/7 [00:00<00:00, 2002.05it/s]\n",
            "Downloading artifacts:  43%|####2     | 3/7 [00:00<00:00, 1477.39it/s]\n",
            "Downloading artifacts:  57%|#####7    | 4/7 [00:00<00:00, 1500.24it/s]\n",
            "Downloading artifacts:  71%|#######1  | 5/7 [00:00<00:00, 1875.30it/s]\n",
            "Downloading artifacts:  86%|########5 | 6/7 [00:00<00:00, 1624.13it/s]\n",
            "Downloading artifacts: 100%|##########| 7/7 [00:00<00:00, 1491.42it/s]\n",
            "Downloading artifacts: 100%|##########| 7/7 [00:00<00:00, 1229.49it/s]\n"
          ]
        },
        {
          "name": "stdout",
          "output_type": "stream",
          "text": [
            "🏃 View run RandomForest_trial at: http://127.0.0.1:5000/#/experiments/184415391709998126/runs/d0955dfd06b24cbf8b4018fb471cef18\n",
            "\n",
            "🧪 View experiment at: http://127.0.0.1:5000/#/experiments/184415391709998126     \n",
            "\n",
            " 28%|██▊       | 7/25 [00:23<00:59,  3.33s/trial, best loss: 0.036799944033873544]"
          ]
        },
        {
          "name": "stderr",
          "output_type": "stream",
          "text": [
            "Downloading artifacts:   0%|          | 0/7 [00:00<?, ?it/s]\n",
            "Downloading artifacts:  14%|#4        | 1/7 [00:00<?, ?it/s]\n",
            "Downloading artifacts:  29%|##8       | 2/7 [00:00<00:00, 2002.53it/s]\n",
            "Downloading artifacts:  43%|####2     | 3/7 [00:00<00:00, 3003.80it/s]\n",
            "Downloading artifacts:  57%|#####7    | 4/7 [00:00<00:00, 2000.86it/s]\n",
            "Downloading artifacts:  71%|#######1  | 5/7 [00:00<00:00, 1657.83it/s]\n",
            "Downloading artifacts:  86%|########5 | 6/7 [00:00<00:00, 1499.93it/s]\n",
            "Downloading artifacts: 100%|##########| 7/7 [00:00<00:00, 1400.03it/s]\n",
            "Downloading artifacts: 100%|##########| 7/7 [00:00<00:00, 1400.03it/s]\n"
          ]
        },
        {
          "name": "stdout",
          "output_type": "stream",
          "text": [
            "🏃 View run RandomForest_trial at: http://127.0.0.1:5000/#/experiments/184415391709998126/runs/7c41000927164d779f3c118923b3c12f\n",
            "\n",
            "🧪 View experiment at: http://127.0.0.1:5000/#/experiments/184415391709998126     \n",
            "\n",
            " 32%|███▏      | 8/25 [00:26<00:55,  3.25s/trial, best loss: 0.036799944033873544]"
          ]
        },
        {
          "name": "stderr",
          "output_type": "stream",
          "text": [
            "Downloading artifacts:   0%|          | 0/7 [00:00<?, ?it/s]\n",
            "Downloading artifacts:  14%|#4        | 1/7 [00:00<?, ?it/s]\n",
            "Downloading artifacts:  29%|##8       | 2/7 [00:00<00:00, 1504.95it/s]\n",
            "Downloading artifacts:  43%|####2     | 3/7 [00:00<00:00, 2257.43it/s]\n",
            "Downloading artifacts:  57%|#####7    | 4/7 [00:00<00:00, 1711.26it/s]\n",
            "Downloading artifacts:  71%|#######1  | 5/7 [00:00<00:00, 1500.54it/s]\n",
            "Downloading artifacts:  86%|########5 | 6/7 [00:00<00:00, 1382.28it/s]\n",
            "Downloading artifacts: 100%|##########| 7/7 [00:00<00:00, 1291.18it/s]\n",
            "Downloading artifacts: 100%|##########| 7/7 [00:00<00:00, 1291.18it/s]\n"
          ]
        },
        {
          "name": "stdout",
          "output_type": "stream",
          "text": [
            "🏃 View run RandomForest_trial at: http://127.0.0.1:5000/#/experiments/184415391709998126/runs/4a7e0fa26d4843f891752add87207c99\n",
            "\n",
            "🧪 View experiment at: http://127.0.0.1:5000/#/experiments/184415391709998126     \n",
            "\n",
            " 36%|███▌      | 9/25 [00:30<00:52,  3.25s/trial, best loss: 0.036799944033873544]"
          ]
        },
        {
          "name": "stderr",
          "output_type": "stream",
          "text": [
            "Downloading artifacts:   0%|          | 0/7 [00:00<?, ?it/s]\n",
            "Downloading artifacts:  14%|#4        | 1/7 [00:00<?, ?it/s]\n",
            "Downloading artifacts:  29%|##8       | 2/7 [00:00<00:00, 1999.67it/s]\n",
            "Downloading artifacts:  43%|####2     | 3/7 [00:00<00:00, 1500.11it/s]\n",
            "Downloading artifacts:  57%|#####7    | 4/7 [00:00<00:00, 2000.14it/s]\n",
            "Downloading artifacts:  71%|#######1  | 5/7 [00:00<00:00, 1667.72it/s]\n",
            "Downloading artifacts:  86%|########5 | 6/7 [00:00<00:00, 1500.11it/s]\n",
            "Downloading artifacts: 100%|##########| 7/7 [00:00<00:00, 1750.13it/s]\n",
            "Downloading artifacts: 100%|##########| 7/7 [00:00<00:00, 1400.37it/s]\n"
          ]
        },
        {
          "name": "stdout",
          "output_type": "stream",
          "text": [
            "🏃 View run RandomForest_trial at: http://127.0.0.1:5000/#/experiments/184415391709998126/runs/8ab6bf8672cc4aa58eff2cfbd7faf6f7\n",
            "\n",
            "🧪 View experiment at: http://127.0.0.1:5000/#/experiments/184415391709998126     \n",
            "\n",
            " 40%|████      | 10/25 [00:33<00:48,  3.23s/trial, best loss: 0.036799944033873544]"
          ]
        },
        {
          "name": "stderr",
          "output_type": "stream",
          "text": [
            "Downloading artifacts:   0%|          | 0/7 [00:00<?, ?it/s]\n",
            "Downloading artifacts:  14%|#4        | 1/7 [00:00<?, ?it/s]\n",
            "Downloading artifacts:  29%|##8       | 2/7 [00:00<00:00, 1987.35it/s]\n",
            "Downloading artifacts:  43%|####2     | 3/7 [00:00<00:00, 1495.12it/s]\n",
            "Downloading artifacts:  57%|#####7    | 4/7 [00:00<00:00, 1330.57it/s]\n",
            "Downloading artifacts:  71%|#######1  | 5/7 [00:00<00:00, 1663.22it/s]\n",
            "Downloading artifacts:  86%|########5 | 6/7 [00:00<00:00, 1497.88it/s]\n",
            "Downloading artifacts: 100%|##########| 7/7 [00:00<00:00, 1398.70it/s]\n",
            "Downloading artifacts: 100%|##########| 7/7 [00:00<00:00, 1398.70it/s]\n"
          ]
        },
        {
          "name": "stdout",
          "output_type": "stream",
          "text": [
            "🏃 View run RandomForest_trial at: http://127.0.0.1:5000/#/experiments/184415391709998126/runs/6e56c04dbed848dfb7a385a38286b925\n",
            "\n",
            "🧪 View experiment at: http://127.0.0.1:5000/#/experiments/184415391709998126      \n",
            "\n",
            " 44%|████▍     | 11/25 [00:36<00:44,  3.21s/trial, best loss: 0.036799944033873544]"
          ]
        },
        {
          "name": "stderr",
          "output_type": "stream",
          "text": [
            "Downloading artifacts:   0%|          | 0/7 [00:00<?, ?it/s]\n",
            "Downloading artifacts:  14%|#4        | 1/7 [00:00<?, ?it/s]\n",
            "Downloading artifacts:  29%|##8       | 2/7 [00:00<00:00, 2235.17it/s]\n",
            "Downloading artifacts:  43%|####2     | 3/7 [00:00<00:00, 1585.55it/s]\n",
            "Downloading artifacts:  57%|#####7    | 4/7 [00:00<00:00, 1372.03it/s]\n",
            "Downloading artifacts:  71%|#######1  | 5/7 [00:00<00:00, 1284.63it/s]\n",
            "Downloading artifacts:  86%|########5 | 6/7 [00:00<00:00, 1541.55it/s]\n",
            "Downloading artifacts: 100%|##########| 7/7 [00:00<00:00, 1431.15it/s]\n",
            "Downloading artifacts: 100%|##########| 7/7 [00:00<00:00, 1188.09it/s]\n"
          ]
        },
        {
          "name": "stdout",
          "output_type": "stream",
          "text": [
            "🏃 View run RandomForest_trial at: http://127.0.0.1:5000/#/experiments/184415391709998126/runs/f3704b52ee5844abbd22f25e48dac144\n",
            "\n",
            "🧪 View experiment at: http://127.0.0.1:5000/#/experiments/184415391709998126      \n",
            "\n",
            " 48%|████▊     | 12/25 [00:39<00:41,  3.20s/trial, best loss: 0.036799944033873544]"
          ]
        },
        {
          "name": "stderr",
          "output_type": "stream",
          "text": [
            "Downloading artifacts:   0%|          | 0/7 [00:00<?, ?it/s]\n",
            "Downloading artifacts:  14%|#4        | 1/7 [00:00<?, ?it/s]\n",
            "Downloading artifacts:  29%|##8       | 2/7 [00:00<00:00, 2002.05it/s]\n",
            "Downloading artifacts:  43%|####2     | 3/7 [00:00<00:00, 3003.08it/s]\n",
            "Downloading artifacts:  57%|#####7    | 4/7 [00:00<00:00, 2001.34it/s]\n",
            "Downloading artifacts:  71%|#######1  | 5/7 [00:00<00:00, 1666.52it/s]\n",
            "Downloading artifacts:  86%|########5 | 6/7 [00:00<00:00, 1490.87it/s]\n",
            "Downloading artifacts: 100%|##########| 7/7 [00:00<00:00, 1400.03it/s]\n",
            "Downloading artifacts: 100%|##########| 7/7 [00:00<00:00, 1400.03it/s]\n"
          ]
        },
        {
          "name": "stdout",
          "output_type": "stream",
          "text": [
            "🏃 View run RandomForest_trial at: http://127.0.0.1:5000/#/experiments/184415391709998126/runs/f4761cdf757445b2ab29270e2e0a1d16\n",
            "\n",
            "🧪 View experiment at: http://127.0.0.1:5000/#/experiments/184415391709998126      \n",
            "\n",
            " 52%|█████▏    | 13/25 [00:42<00:38,  3.22s/trial, best loss: 0.036799944033873544]"
          ]
        },
        {
          "name": "stderr",
          "output_type": "stream",
          "text": [
            "Downloading artifacts:   0%|          | 0/7 [00:00<?, ?it/s]\n",
            "Downloading artifacts:  14%|#4        | 1/7 [00:00<00:00, 1001.27it/s]\n",
            "Downloading artifacts:  29%|##8       | 2/7 [00:00<00:00, 2002.53it/s]\n",
            "Downloading artifacts:  43%|####2     | 3/7 [00:00<00:00, 1500.29it/s]\n",
            "Downloading artifacts:  57%|#####7    | 4/7 [00:00<00:00, 1333.54it/s]\n",
            "Downloading artifacts:  71%|#######1  | 5/7 [00:00<00:00, 1242.90it/s]\n",
            "Downloading artifacts:  86%|########5 | 6/7 [00:00<00:00, 1199.97it/s]\n",
            "Downloading artifacts: 100%|##########| 7/7 [00:00<00:00, 1399.97it/s]\n",
            "Downloading artifacts: 100%|##########| 7/7 [00:00<00:00, 1166.84it/s]\n"
          ]
        },
        {
          "name": "stdout",
          "output_type": "stream",
          "text": [
            "🏃 View run RandomForest_trial at: http://127.0.0.1:5000/#/experiments/184415391709998126/runs/5e8961a1b7be4b29a6f7d498f4b374bf\n",
            "\n",
            "🧪 View experiment at: http://127.0.0.1:5000/#/experiments/184415391709998126      \n",
            "\n",
            " 56%|█████▌    | 14/25 [00:46<00:35,  3.23s/trial, best loss: 0.036799944033873544]"
          ]
        },
        {
          "name": "stderr",
          "output_type": "stream",
          "text": [
            "Downloading artifacts:   0%|          | 0/7 [00:00<?, ?it/s]\n",
            "Downloading artifacts:  14%|#4        | 1/7 [00:00<00:00, 1001.74it/s]\n",
            "Downloading artifacts:  29%|##8       | 2/7 [00:00<00:00, 1000.67it/s]\n",
            "Downloading artifacts:  43%|####2     | 3/7 [00:00<00:00, 1501.00it/s]\n",
            "Downloading artifacts:  57%|#####7    | 4/7 [00:00<00:00, 999.42it/s] \n",
            "Downloading artifacts:  71%|#######1  | 5/7 [00:00<00:00, 999.55it/s]\n",
            "Downloading artifacts:  86%|########5 | 6/7 [00:00<00:00, 1199.46it/s]\n",
            "Downloading artifacts: 100%|##########| 7/7 [00:00<00:00, 1165.92it/s]\n",
            "Downloading artifacts: 100%|##########| 7/7 [00:00<00:00, 999.70it/s] \n"
          ]
        },
        {
          "name": "stdout",
          "output_type": "stream",
          "text": [
            "🏃 View run RandomForest_trial at: http://127.0.0.1:5000/#/experiments/184415391709998126/runs/0464d4e50a19407786cf55de106980d7\n",
            "\n",
            "🧪 View experiment at: http://127.0.0.1:5000/#/experiments/184415391709998126      \n",
            "\n",
            " 60%|██████    | 15/25 [00:49<00:32,  3.25s/trial, best loss: 0.036799944033873544]"
          ]
        },
        {
          "name": "stderr",
          "output_type": "stream",
          "text": [
            "Downloading artifacts:   0%|          | 0/7 [00:00<?, ?it/s]\n",
            "Downloading artifacts:  14%|#4        | 1/7 [00:00<?, ?it/s]\n",
            "Downloading artifacts:  29%|##8       | 2/7 [00:00<00:00, 1960.41it/s]\n",
            "Downloading artifacts:  43%|####2     | 3/7 [00:00<00:00, 1477.91it/s]\n",
            "Downloading artifacts:  57%|#####7    | 4/7 [00:00<00:00, 1327.42it/s]\n",
            "Downloading artifacts:  71%|#######1  | 5/7 [00:00<00:00, 1659.27it/s]\n",
            "Downloading artifacts:  86%|########5 | 6/7 [00:00<00:00, 1493.88it/s]\n",
            "Downloading artifacts: 100%|##########| 7/7 [00:00<00:00, 1393.32it/s]\n",
            "Downloading artifacts: 100%|##########| 7/7 [00:00<00:00, 1393.32it/s]\n"
          ]
        },
        {
          "name": "stdout",
          "output_type": "stream",
          "text": [
            "🏃 View run RandomForest_trial at: http://127.0.0.1:5000/#/experiments/184415391709998126/runs/5c6940936f0f4b6e8330b1ffd0e61824\n",
            "\n",
            "🧪 View experiment at: http://127.0.0.1:5000/#/experiments/184415391709998126      \n",
            "\n",
            " 64%|██████▍   | 16/25 [00:52<00:29,  3.22s/trial, best loss: 0.03438322556776826] "
          ]
        },
        {
          "name": "stderr",
          "output_type": "stream",
          "text": [
            "Downloading artifacts:   0%|          | 0/7 [00:00<?, ?it/s]\n",
            "Downloading artifacts:  14%|#4        | 1/7 [00:00<?, ?it/s]\n",
            "Downloading artifacts:  29%|##8       | 2/7 [00:00<00:00, 2064.63it/s]\n",
            "Downloading artifacts:  43%|####2     | 3/7 [00:00<00:00, 3096.95it/s]\n",
            "Downloading artifacts:  57%|#####7    | 4/7 [00:00<00:00, 2032.62it/s]\n",
            "Downloading artifacts:  71%|#######1  | 5/7 [00:00<00:00, 1685.14it/s]\n",
            "Downloading artifacts:  86%|########5 | 6/7 [00:00<00:00, 2022.16it/s]\n",
            "Downloading artifacts: 100%|##########| 7/7 [00:00<00:00, 1570.73it/s]\n",
            "Downloading artifacts: 100%|##########| 7/7 [00:00<00:00, 1570.73it/s]\n"
          ]
        },
        {
          "name": "stdout",
          "output_type": "stream",
          "text": [
            "🏃 View run RandomForest_trial at: http://127.0.0.1:5000/#/experiments/184415391709998126/runs/c0c08efda73a4ac8b21ab11538b2bc1d\n",
            "\n",
            "🧪 View experiment at: http://127.0.0.1:5000/#/experiments/184415391709998126     \n",
            "\n",
            " 68%|██████▊   | 17/25 [00:55<00:25,  3.20s/trial, best loss: 0.03438322556776826]"
          ]
        },
        {
          "name": "stderr",
          "output_type": "stream",
          "text": [
            "Downloading artifacts:   0%|          | 0/7 [00:00<?, ?it/s]\n",
            "Downloading artifacts:  14%|#4        | 1/7 [00:00<00:00, 995.09it/s]\n",
            "Downloading artifacts:  29%|##8       | 2/7 [00:00<00:00, 1990.18it/s]\n",
            "Downloading artifacts:  43%|####2     | 3/7 [00:00<00:00, 1496.72it/s]\n",
            "Downloading artifacts:  57%|#####7    | 4/7 [00:00<00:00, 1331.31it/s]\n",
            "Downloading artifacts:  71%|#######1  | 5/7 [00:00<00:00, 1241.29it/s]\n",
            "Downloading artifacts:  86%|########5 | 6/7 [00:00<00:00, 1198.83it/s]\n",
            "Downloading artifacts: 100%|##########| 7/7 [00:00<00:00, 1398.63it/s]\n",
            "Downloading artifacts: 100%|##########| 7/7 [00:00<00:00, 1165.92it/s]\n"
          ]
        },
        {
          "name": "stdout",
          "output_type": "stream",
          "text": [
            "🏃 View run RandomForest_trial at: http://127.0.0.1:5000/#/experiments/184415391709998126/runs/aabe2d4eb3f24a6aa8b9b9bbc81110e6\n",
            "\n",
            "🧪 View experiment at: http://127.0.0.1:5000/#/experiments/184415391709998126     \n",
            "\n",
            " 72%|███████▏  | 18/25 [00:58<00:22,  3.17s/trial, best loss: 0.03438322556776826]"
          ]
        },
        {
          "name": "stderr",
          "output_type": "stream",
          "text": [
            "Downloading artifacts:   0%|          | 0/7 [00:00<?, ?it/s]\n",
            "Downloading artifacts:  14%|#4        | 1/7 [00:00<00:00, 998.41it/s]\n",
            "Downloading artifacts:  29%|##8       | 2/7 [00:00<00:00, 1996.81it/s]\n",
            "Downloading artifacts:  43%|####2     | 3/7 [00:00<00:00, 1499.93it/s]\n",
            "Downloading artifacts:  57%|#####7    | 4/7 [00:00<00:00, 1333.01it/s]\n",
            "Downloading artifacts:  71%|#######1  | 5/7 [00:00<00:00, 1249.72it/s]\n",
            "Downloading artifacts:  86%|########5 | 6/7 [00:00<00:00, 1499.66it/s]\n",
            "Downloading artifacts: 100%|##########| 7/7 [00:00<00:00, 1399.90it/s]\n",
            "Downloading artifacts: 100%|##########| 7/7 [00:00<00:00, 1399.90it/s]\n"
          ]
        },
        {
          "name": "stdout",
          "output_type": "stream",
          "text": [
            "🏃 View run RandomForest_trial at: http://127.0.0.1:5000/#/experiments/184415391709998126/runs/672c31baef594f0ea33104c48106d4e2\n",
            "\n",
            "🧪 View experiment at: http://127.0.0.1:5000/#/experiments/184415391709998126     \n",
            "\n",
            " 76%|███████▌  | 19/25 [01:01<00:18,  3.15s/trial, best loss: 0.03438322556776826]"
          ]
        },
        {
          "name": "stderr",
          "output_type": "stream",
          "text": [
            "Downloading artifacts:   0%|          | 0/7 [00:00<?, ?it/s]\n",
            "Downloading artifacts:  14%|#4        | 1/7 [00:00<?, ?it/s]\n",
            "Downloading artifacts:  29%|##8       | 2/7 [00:00<00:00, 2001.58it/s]\n",
            "Downloading artifacts:  43%|####2     | 3/7 [00:00<00:00, 1500.65it/s]\n",
            "Downloading artifacts:  57%|#####7    | 4/7 [00:00<00:00, 1333.22it/s]\n",
            "Downloading artifacts:  71%|#######1  | 5/7 [00:00<00:00, 1666.52it/s]\n",
            "Downloading artifacts:  86%|########5 | 6/7 [00:00<00:00, 1500.20it/s]\n",
            "Downloading artifacts: 100%|##########| 7/7 [00:00<00:00, 1392.53it/s]\n",
            "Downloading artifacts: 100%|##########| 7/7 [00:00<00:00, 1392.53it/s]\n"
          ]
        },
        {
          "name": "stdout",
          "output_type": "stream",
          "text": [
            "🏃 View run RandomForest_trial at: http://127.0.0.1:5000/#/experiments/184415391709998126/runs/b8c4ec29e22e48d7b7a807fa6b95f069\n",
            "\n",
            "🧪 View experiment at: http://127.0.0.1:5000/#/experiments/184415391709998126     \n",
            "\n",
            " 80%|████████  | 20/25 [01:05<00:15,  3.15s/trial, best loss: 0.03438322556776826]"
          ]
        },
        {
          "name": "stderr",
          "output_type": "stream",
          "text": [
            "Downloading artifacts:   0%|          | 0/7 [00:00<?, ?it/s]\n",
            "Downloading artifacts:  14%|#4        | 1/7 [00:00<?, ?it/s]\n",
            "Downloading artifacts:  29%|##8       | 2/7 [00:00<00:00, 1999.67it/s]\n",
            "Downloading artifacts:  43%|####2     | 3/7 [00:00<00:00, 1499.93it/s]\n",
            "Downloading artifacts:  57%|#####7    | 4/7 [00:00<00:00, 1333.22it/s]\n",
            "Downloading artifacts:  71%|#######1  | 5/7 [00:00<00:00, 1250.17it/s]\n",
            "Downloading artifacts:  86%|########5 | 6/7 [00:00<00:00, 1500.20it/s]\n",
            "Downloading artifacts: 100%|##########| 7/7 [00:00<00:00, 1399.90it/s]\n",
            "Downloading artifacts: 100%|##########| 7/7 [00:00<00:00, 1166.66it/s]\n"
          ]
        },
        {
          "name": "stdout",
          "output_type": "stream",
          "text": [
            "🏃 View run RandomForest_trial at: http://127.0.0.1:5000/#/experiments/184415391709998126/runs/481afd7928724a12a02f6346ae4ece31\n",
            "\n",
            "🧪 View experiment at: http://127.0.0.1:5000/#/experiments/184415391709998126     \n",
            "\n",
            " 84%|████████▍ | 21/25 [01:08<00:13,  3.34s/trial, best loss: 0.03397912699136484]"
          ]
        },
        {
          "name": "stderr",
          "output_type": "stream",
          "text": [
            "Downloading artifacts:   0%|          | 0/7 [00:00<?, ?it/s]\n",
            "Downloading artifacts:  14%|#4        | 1/7 [00:00<?, ?it/s]\n",
            "Downloading artifacts:  29%|##8       | 2/7 [00:00<00:00, 2000.14it/s]\n",
            "Downloading artifacts:  43%|####2     | 3/7 [00:00<00:00, 3000.22it/s]\n",
            "Downloading artifacts:  57%|#####7    | 4/7 [00:00<00:00, 2000.14it/s]\n",
            "Downloading artifacts:  71%|#######1  | 5/7 [00:00<00:00, 1666.92it/s]\n",
            "Downloading artifacts:  86%|########5 | 6/7 [00:00<00:00, 1499.93it/s]\n",
            "Downloading artifacts: 100%|##########| 7/7 [00:00<00:00, 1398.70it/s]\n",
            "Downloading artifacts: 100%|##########| 7/7 [00:00<00:00, 1398.70it/s]\n"
          ]
        },
        {
          "name": "stdout",
          "output_type": "stream",
          "text": [
            "🏃 View run RandomForest_trial at: http://127.0.0.1:5000/#/experiments/184415391709998126/runs/c07febdfbb944b699438816048323400\n",
            "\n",
            "🧪 View experiment at: http://127.0.0.1:5000/#/experiments/184415391709998126     \n",
            "\n",
            " 88%|████████▊ | 22/25 [01:12<00:10,  3.35s/trial, best loss: 0.03397912699136484]"
          ]
        },
        {
          "name": "stderr",
          "output_type": "stream",
          "text": [
            "Downloading artifacts:   0%|          | 0/7 [00:00<?, ?it/s]\n",
            "Downloading artifacts:  14%|#4        | 1/7 [00:00<?, ?it/s]\n",
            "Downloading artifacts:  29%|##8       | 2/7 [00:00<00:00, 2000.14it/s]\n",
            "Downloading artifacts:  43%|####2     | 3/7 [00:00<00:00, 1500.47it/s]\n",
            "Downloading artifacts:  57%|#####7    | 4/7 [00:00<00:00, 1333.54it/s]\n",
            "Downloading artifacts:  71%|#######1  | 5/7 [00:00<00:00, 1666.92it/s]\n",
            "Downloading artifacts:  86%|########5 | 6/7 [00:00<00:00, 1500.11it/s]\n",
            "Downloading artifacts: 100%|##########| 7/7 [00:00<00:00, 1400.24it/s]\n",
            "Downloading artifacts: 100%|##########| 7/7 [00:00<00:00, 1400.24it/s]\n"
          ]
        },
        {
          "name": "stdout",
          "output_type": "stream",
          "text": [
            "🏃 View run RandomForest_trial at: http://127.0.0.1:5000/#/experiments/184415391709998126/runs/af125d16aff84fbca9d0314d7cc17d93\n",
            "\n",
            "🧪 View experiment at: http://127.0.0.1:5000/#/experiments/184415391709998126     \n",
            "\n",
            " 92%|█████████▏| 23/25 [01:15<00:06,  3.40s/trial, best loss: 0.03397912699136484]"
          ]
        },
        {
          "name": "stderr",
          "output_type": "stream",
          "text": [
            "Downloading artifacts:   0%|          | 0/7 [00:00<?, ?it/s]\n",
            "Downloading artifacts:  14%|#4        | 1/7 [00:00<?, ?it/s]\n",
            "Downloading artifacts:  29%|##8       | 2/7 [00:00<00:00, 2052.51it/s]\n",
            "Downloading artifacts:  43%|####2     | 3/7 [00:00<00:00, 1519.86it/s]\n",
            "Downloading artifacts:  57%|#####7    | 4/7 [00:00<00:00, 2026.48it/s]\n",
            "Downloading artifacts:  71%|#######1  | 5/7 [00:00<00:00, 1681.35it/s]\n",
            "Downloading artifacts:  86%|########5 | 6/7 [00:00<00:00, 1510.10it/s]\n",
            "Downloading artifacts: 100%|##########| 7/7 [00:00<00:00, 1407.28it/s]\n",
            "Downloading artifacts: 100%|##########| 7/7 [00:00<00:00, 1407.28it/s]\n"
          ]
        },
        {
          "name": "stdout",
          "output_type": "stream",
          "text": [
            "🏃 View run RandomForest_trial at: http://127.0.0.1:5000/#/experiments/184415391709998126/runs/604a7b120b424bbea51d3d1782c885a6\n",
            "\n",
            "🧪 View experiment at: http://127.0.0.1:5000/#/experiments/184415391709998126     \n",
            "\n",
            " 96%|█████████▌| 24/25 [01:19<00:03,  3.45s/trial, best loss: 0.03397912699136484]"
          ]
        },
        {
          "name": "stderr",
          "output_type": "stream",
          "text": [
            "Downloading artifacts:   0%|          | 0/7 [00:00<?, ?it/s]\n",
            "Downloading artifacts:  14%|#4        | 1/7 [00:00<?, ?it/s]\n",
            "Downloading artifacts:  29%|##8       | 2/7 [00:00<00:00, 1991.12it/s]\n",
            "Downloading artifacts:  43%|####2     | 3/7 [00:00<00:00, 2986.69it/s]\n",
            "Downloading artifacts:  57%|#####7    | 4/7 [00:00<00:00, 1999.43it/s]\n",
            "Downloading artifacts:  71%|#######1  | 5/7 [00:00<00:00, 1712.66it/s]\n",
            "Downloading artifacts:  86%|########5 | 6/7 [00:00<00:00, 1525.48it/s]\n",
            "Downloading artifacts: 100%|##########| 7/7 [00:00<00:00, 1419.94it/s]\n",
            "Downloading artifacts: 100%|##########| 7/7 [00:00<00:00, 1419.94it/s]\n"
          ]
        },
        {
          "name": "stdout",
          "output_type": "stream",
          "text": [
            "🏃 View run RandomForest_trial at: http://127.0.0.1:5000/#/experiments/184415391709998126/runs/a15dd6c7dd28421ca191c61a2d3ff594\n",
            "\n",
            "🧪 View experiment at: http://127.0.0.1:5000/#/experiments/184415391709998126     \n",
            "\n",
            "100%|██████████| 25/25 [01:22<00:00,  3.31s/trial, best loss: 0.03397912699136484]\n",
            "🏃 View run RandomForest_tuning at: http://127.0.0.1:5000/#/experiments/184415391709998126/runs/a5fe4580a552428fbe959cf44a0a32c5\n",
            "🧪 View experiment at: http://127.0.0.1:5000/#/experiments/184415391709998126\n",
            "\n",
            "🔍 Tuning: SVR\n",
            "  0%|          | 0/25 [00:00<?, ?trial/s, best loss=?]"
          ]
        },
        {
          "name": "stderr",
          "output_type": "stream",
          "text": [
            "Downloading artifacts:   0%|          | 0/7 [00:00<?, ?it/s]\n",
            "Downloading artifacts:  14%|#4        | 1/7 [00:00<?, ?it/s]\n",
            "Downloading artifacts:  29%|##8       | 2/7 [00:00<00:00, 1853.02it/s]\n",
            "Downloading artifacts:  43%|####2     | 3/7 [00:00<00:00, 1442.33it/s]\n",
            "Downloading artifacts:  57%|#####7    | 4/7 [00:00<00:00, 996.86it/s] \n",
            "Downloading artifacts:  71%|#######1  | 5/7 [00:00<00:00, 1246.08it/s]\n",
            "Downloading artifacts:  86%|########5 | 6/7 [00:00<00:00, 1176.36it/s]\n",
            "Downloading artifacts: 100%|##########| 7/7 [00:00<00:00, 1136.84it/s]\n",
            "Downloading artifacts: 100%|##########| 7/7 [00:00<00:00, 978.87it/s] \n"
          ]
        },
        {
          "name": "stdout",
          "output_type": "stream",
          "text": [
            "🏃 View run SVR_trial at: http://127.0.0.1:5000/#/experiments/184415391709998126/runs/9e2f4dbe7f5047e2828a0aa8c9078555\n",
            "\n",
            "🧪 View experiment at: http://127.0.0.1:5000/#/experiments/184415391709998126\n",
            "\n",
            "  4%|▍         | 1/25 [00:02<01:05,  2.73s/trial, best loss: 0.06404461265086264]"
          ]
        },
        {
          "name": "stderr",
          "output_type": "stream",
          "text": [
            "Downloading artifacts:   0%|          | 0/7 [00:00<?, ?it/s]\n",
            "Downloading artifacts:  14%|#4        | 1/7 [00:00<?, ?it/s]\n",
            "Downloading artifacts:  29%|##8       | 2/7 [00:00<00:00, 2044.51it/s]\n",
            "Downloading artifacts:  43%|####2     | 3/7 [00:00<00:00, 1533.38it/s]\n",
            "Downloading artifacts:  57%|#####7    | 4/7 [00:00<00:00, 1356.17it/s]\n",
            "Downloading artifacts:  71%|#######1  | 5/7 [00:00<00:00, 1262.05it/s]\n",
            "Downloading artifacts:  86%|########5 | 6/7 [00:00<00:00, 1514.46it/s]\n",
            "Downloading artifacts: 100%|##########| 7/7 [00:00<00:00, 1386.02it/s]\n",
            "Downloading artifacts: 100%|##########| 7/7 [00:00<00:00, 1155.59it/s]\n"
          ]
        },
        {
          "name": "stdout",
          "output_type": "stream",
          "text": [
            "🏃 View run SVR_trial at: http://127.0.0.1:5000/#/experiments/184415391709998126/runs/373c24b234414797916461bb66c65a19\n",
            "\n",
            "🧪 View experiment at: http://127.0.0.1:5000/#/experiments/184415391709998126    \n",
            "\n",
            "  8%|▊         | 2/25 [00:05<01:02,  2.74s/trial, best loss: 0.03847543237588842]"
          ]
        },
        {
          "name": "stderr",
          "output_type": "stream",
          "text": [
            "Downloading artifacts:   0%|          | 0/7 [00:00<?, ?it/s]\n",
            "Downloading artifacts:  14%|#4        | 1/7 [00:00<00:00, 975.65it/s]\n",
            "Downloading artifacts:  29%|##8       | 2/7 [00:00<00:00, 993.56it/s]\n",
            "Downloading artifacts:  43%|####2     | 3/7 [00:00<00:00, 1490.34it/s]\n",
            "Downloading artifacts:  57%|#####7    | 4/7 [00:00<00:00, 1324.48it/s]\n",
            "Downloading artifacts:  71%|#######1  | 5/7 [00:00<00:00, 1244.75it/s]\n",
            "Downloading artifacts:  86%|########5 | 6/7 [00:00<00:00, 1493.70it/s]\n",
            "Downloading artifacts: 100%|##########| 7/7 [00:00<00:00, 1396.37it/s]\n",
            "Downloading artifacts: 100%|##########| 7/7 [00:00<00:00, 1136.27it/s]\n"
          ]
        },
        {
          "name": "stdout",
          "output_type": "stream",
          "text": [
            "🏃 View run SVR_trial at: http://127.0.0.1:5000/#/experiments/184415391709998126/runs/4ee6eb7c1d1f42ccb1aa2304ceeb2ebd\n",
            "\n",
            "🧪 View experiment at: http://127.0.0.1:5000/#/experiments/184415391709998126    \n",
            "\n",
            " 12%|█▏        | 3/25 [00:08<01:00,  2.76s/trial, best loss: 0.03847543237588842]"
          ]
        },
        {
          "name": "stderr",
          "output_type": "stream",
          "text": [
            "Downloading artifacts:   0%|          | 0/7 [00:00<?, ?it/s]\n",
            "Downloading artifacts:  14%|#4        | 1/7 [00:00<?, ?it/s]\n",
            "Downloading artifacts:  29%|##8       | 2/7 [00:00<00:00, 2003.01it/s]\n",
            "Downloading artifacts:  43%|####2     | 3/7 [00:00<00:00, 1488.57it/s]\n",
            "Downloading artifacts:  57%|#####7    | 4/7 [00:00<00:00, 1984.76it/s]\n",
            "Downloading artifacts:  71%|#######1  | 5/7 [00:00<00:00, 1669.97it/s]\n",
            "Downloading artifacts:  86%|########5 | 6/7 [00:00<00:00, 1494.50it/s]\n",
            "Downloading artifacts: 100%|##########| 7/7 [00:00<00:00, 1401.30it/s]\n",
            "Downloading artifacts: 100%|##########| 7/7 [00:00<00:00, 1401.30it/s]\n"
          ]
        },
        {
          "name": "stdout",
          "output_type": "stream",
          "text": [
            "🏃 View run SVR_trial at: http://127.0.0.1:5000/#/experiments/184415391709998126/runs/69d56ddefe684fc394c9d1a8777ec589\n",
            "\n",
            "🧪 View experiment at: http://127.0.0.1:5000/#/experiments/184415391709998126    \n",
            "\n",
            " 16%|█▌        | 4/25 [00:10<00:57,  2.74s/trial, best loss: 0.03847543237588842]"
          ]
        },
        {
          "name": "stderr",
          "output_type": "stream",
          "text": [
            "Downloading artifacts:   0%|          | 0/7 [00:00<?, ?it/s]\n",
            "Downloading artifacts:  14%|#4        | 1/7 [00:00<?, ?it/s]\n",
            "Downloading artifacts:  29%|##8       | 2/7 [00:00<?, ?it/s]\n",
            "Downloading artifacts:  43%|####2     | 3/7 [00:00<00:00, 3003.80it/s]\n",
            "Downloading artifacts:  57%|#####7    | 4/7 [00:00<00:00, 1975.88it/s]\n",
            "Downloading artifacts:  71%|#######1  | 5/7 [00:00<00:00, 1655.99it/s]\n",
            "Downloading artifacts:  86%|########5 | 6/7 [00:00<00:00, 1987.19it/s]\n",
            "Downloading artifacts: 100%|##########| 7/7 [00:00<00:00, 1736.46it/s]\n",
            "Downloading artifacts: 100%|##########| 7/7 [00:00<00:00, 1736.46it/s]\n"
          ]
        },
        {
          "name": "stdout",
          "output_type": "stream",
          "text": [
            "🏃 View run SVR_trial at: http://127.0.0.1:5000/#/experiments/184415391709998126/runs/282a41ceed1544a49115878c7e734778\n",
            "\n",
            "🧪 View experiment at: http://127.0.0.1:5000/#/experiments/184415391709998126    \n",
            "\n",
            " 20%|██        | 5/25 [00:13<00:55,  2.76s/trial, best loss: 0.03847543237588842]"
          ]
        },
        {
          "name": "stderr",
          "output_type": "stream",
          "text": [
            "Downloading artifacts:   0%|          | 0/7 [00:00<?, ?it/s]\n",
            "Downloading artifacts:  14%|#4        | 1/7 [00:00<?, ?it/s]\n",
            "Downloading artifacts:  29%|##8       | 2/7 [00:00<00:00, 2000.14it/s]\n",
            "Downloading artifacts:  43%|####2     | 3/7 [00:00<00:00, 3000.22it/s]\n",
            "Downloading artifacts:  57%|#####7    | 4/7 [00:00<00:00, 2001.34it/s]\n",
            "Downloading artifacts:  71%|#######1  | 5/7 [00:00<00:00, 1665.86it/s]\n",
            "Downloading artifacts:  86%|########5 | 6/7 [00:00<00:00, 1499.39it/s]\n",
            "Downloading artifacts: 100%|##########| 7/7 [00:00<00:00, 1749.29it/s]\n",
            "Downloading artifacts: 100%|##########| 7/7 [00:00<00:00, 1399.70it/s]\n"
          ]
        },
        {
          "name": "stdout",
          "output_type": "stream",
          "text": [
            "🏃 View run SVR_trial at: http://127.0.0.1:5000/#/experiments/184415391709998126/runs/c8e8fbaa15184afcbcdf90768325fc79\n",
            "\n",
            "🧪 View experiment at: http://127.0.0.1:5000/#/experiments/184415391709998126    \n",
            "\n",
            " 24%|██▍       | 6/25 [00:16<00:52,  2.78s/trial, best loss: 0.03847543237588842]"
          ]
        },
        {
          "name": "stderr",
          "output_type": "stream",
          "text": [
            "Downloading artifacts:   0%|          | 0/7 [00:00<?, ?it/s]\n",
            "Downloading artifacts:  14%|#4        | 1/7 [00:00<?, ?it/s]\n",
            "Downloading artifacts:  29%|##8       | 2/7 [00:00<00:00, 2000.14it/s]\n",
            "Downloading artifacts:  43%|####2     | 3/7 [00:00<00:00, 1479.99it/s]\n",
            "Downloading artifacts:  57%|#####7    | 4/7 [00:00<00:00, 1332.90it/s]\n",
            "Downloading artifacts:  71%|#######1  | 5/7 [00:00<00:00, 1666.13it/s]\n",
            "Downloading artifacts:  86%|########5 | 6/7 [00:00<00:00, 1500.11it/s]\n",
            "Downloading artifacts: 100%|##########| 7/7 [00:00<00:00, 1400.30it/s]\n",
            "Downloading artifacts: 100%|##########| 7/7 [00:00<00:00, 1400.30it/s]\n"
          ]
        },
        {
          "name": "stdout",
          "output_type": "stream",
          "text": [
            "🏃 View run SVR_trial at: http://127.0.0.1:5000/#/experiments/184415391709998126/runs/4b3fb8d9f527485c98d3e71eb00cf778\n",
            "\n",
            "🧪 View experiment at: http://127.0.0.1:5000/#/experiments/184415391709998126    \n",
            "\n",
            " 28%|██▊       | 7/25 [00:19<00:50,  2.83s/trial, best loss: 0.03847543237588842]"
          ]
        },
        {
          "name": "stderr",
          "output_type": "stream",
          "text": [
            "Downloading artifacts:   0%|          | 0/7 [00:00<?, ?it/s]\n",
            "Downloading artifacts:  14%|#4        | 1/7 [00:00<00:00, 1000.07it/s]\n",
            "Downloading artifacts:  29%|##8       | 2/7 [00:00<00:00, 2000.14it/s]\n",
            "Downloading artifacts:  43%|####2     | 3/7 [00:00<00:00, 1499.93it/s]\n",
            "Downloading artifacts:  57%|#####7    | 4/7 [00:00<00:00, 1333.11it/s]\n",
            "Downloading artifacts:  71%|#######1  | 5/7 [00:00<00:00, 1666.39it/s]\n",
            "Downloading artifacts:  86%|########5 | 6/7 [00:00<00:00, 1500.11it/s]\n",
            "Downloading artifacts: 100%|##########| 7/7 [00:00<00:00, 1400.17it/s]\n",
            "Downloading artifacts: 100%|##########| 7/7 [00:00<00:00, 1400.17it/s]\n"
          ]
        },
        {
          "name": "stdout",
          "output_type": "stream",
          "text": [
            "🏃 View run SVR_trial at: http://127.0.0.1:5000/#/experiments/184415391709998126/runs/2f9c3ab2467348999a36d9a25b2b3d99\n",
            "\n",
            "🧪 View experiment at: http://127.0.0.1:5000/#/experiments/184415391709998126    \n",
            "\n",
            " 32%|███▏      | 8/25 [00:22<00:47,  2.81s/trial, best loss: 0.03847543237588842]"
          ]
        },
        {
          "name": "stderr",
          "output_type": "stream",
          "text": [
            "Downloading artifacts:   0%|          | 0/7 [00:00<?, ?it/s]\n",
            "Downloading artifacts:  14%|#4        | 1/7 [00:00<00:00, 999.60it/s]\n",
            "Downloading artifacts:  29%|##8       | 2/7 [00:00<00:00, 999.36it/s]\n",
            "Downloading artifacts:  43%|####2     | 3/7 [00:00<00:00, 1499.04it/s]\n",
            "Downloading artifacts:  57%|#####7    | 4/7 [00:00<00:00, 1332.90it/s]\n",
            "Downloading artifacts:  71%|#######1  | 5/7 [00:00<00:00, 1249.72it/s]\n",
            "Downloading artifacts:  86%|########5 | 6/7 [00:00<00:00, 1199.92it/s]\n",
            "Downloading artifacts: 100%|##########| 7/7 [00:00<00:00, 1166.57it/s]\n",
            "Downloading artifacts: 100%|##########| 7/7 [00:00<00:00, 1166.57it/s]\n"
          ]
        },
        {
          "name": "stdout",
          "output_type": "stream",
          "text": [
            "🏃 View run SVR_trial at: http://127.0.0.1:5000/#/experiments/184415391709998126/runs/7dafc01445344970a37ac28475abc847\n",
            "\n",
            "🧪 View experiment at: http://127.0.0.1:5000/#/experiments/184415391709998126    \n",
            "\n",
            " 36%|███▌      | 9/25 [00:25<00:44,  2.81s/trial, best loss: 0.03847543237588842]"
          ]
        },
        {
          "name": "stderr",
          "output_type": "stream",
          "text": [
            "Downloading artifacts:   0%|          | 0/7 [00:00<?, ?it/s]\n",
            "Downloading artifacts:  14%|#4        | 1/7 [00:00<?, ?it/s]\n",
            "Downloading artifacts:  29%|##8       | 2/7 [00:00<?, ?it/s]\n",
            "Downloading artifacts:  43%|####2     | 3/7 [00:00<00:00, 3000.93it/s]\n",
            "Downloading artifacts:  57%|#####7    | 4/7 [00:00<00:00, 1999.19it/s]\n",
            "Downloading artifacts:  71%|#######1  | 5/7 [00:00<00:00, 1666.79it/s]\n",
            "Downloading artifacts:  86%|########5 | 6/7 [00:00<00:00, 1500.02it/s]\n",
            "Downloading artifacts: 100%|##########| 7/7 [00:00<00:00, 1750.02it/s]\n",
            "Downloading artifacts: 100%|##########| 7/7 [00:00<00:00, 1393.72it/s]\n"
          ]
        },
        {
          "name": "stdout",
          "output_type": "stream",
          "text": [
            "🏃 View run SVR_trial at: http://127.0.0.1:5000/#/experiments/184415391709998126/runs/6dd4a73702674627a5e63fd0e43d981e\n",
            "\n",
            "🧪 View experiment at: http://127.0.0.1:5000/#/experiments/184415391709998126    \n",
            "\n",
            " 40%|████      | 10/25 [00:27<00:42,  2.82s/trial, best loss: 0.03847543237588842]"
          ]
        },
        {
          "name": "stderr",
          "output_type": "stream",
          "text": [
            "Downloading artifacts:   0%|          | 0/7 [00:00<?, ?it/s]\n",
            "Downloading artifacts:  14%|#4        | 1/7 [00:00<?, ?it/s]\n",
            "Downloading artifacts:  29%|##8       | 2/7 [00:00<00:00, 2007.32it/s]\n",
            "Downloading artifacts:  43%|####2     | 3/7 [00:00<00:00, 1482.96it/s]\n",
            "Downloading artifacts:  57%|#####7    | 4/7 [00:00<00:00, 1977.28it/s]\n",
            "Downloading artifacts:  71%|#######1  | 5/7 [00:00<00:00, 1668.91it/s]\n",
            "Downloading artifacts:  86%|########5 | 6/7 [00:00<00:00, 1501.72it/s]\n",
            "Downloading artifacts: 100%|##########| 7/7 [00:00<00:00, 1401.30it/s]\n",
            "Downloading artifacts: 100%|##########| 7/7 [00:00<00:00, 1401.30it/s]\n"
          ]
        },
        {
          "name": "stdout",
          "output_type": "stream",
          "text": [
            "🏃 View run SVR_trial at: http://127.0.0.1:5000/#/experiments/184415391709998126/runs/17039a637bec4af5bf12f7e5888afc6d\n",
            "\n",
            "🧪 View experiment at: http://127.0.0.1:5000/#/experiments/184415391709998126     \n",
            "\n",
            " 44%|████▍     | 11/25 [00:30<00:39,  2.83s/trial, best loss: 0.03847543237588842]"
          ]
        },
        {
          "name": "stderr",
          "output_type": "stream",
          "text": [
            "Downloading artifacts:   0%|          | 0/7 [00:00<?, ?it/s]\n",
            "Downloading artifacts:  14%|#4        | 1/7 [00:00<?, ?it/s]\n",
            "Downloading artifacts:  29%|##8       | 2/7 [00:00<00:00, 1998.72it/s]\n",
            "Downloading artifacts:  43%|####2     | 3/7 [00:00<00:00, 1500.47it/s]\n",
            "Downloading artifacts:  57%|#####7    | 4/7 [00:00<00:00, 2000.62it/s]\n",
            "Downloading artifacts:  71%|#######1  | 5/7 [00:00<00:00, 1666.79it/s]\n",
            "Downloading artifacts:  86%|########5 | 6/7 [00:00<00:00, 1500.02it/s]\n",
            "Downloading artifacts: 100%|##########| 7/7 [00:00<00:00, 1400.17it/s]\n",
            "Downloading artifacts: 100%|##########| 7/7 [00:00<00:00, 1400.17it/s]\n"
          ]
        },
        {
          "name": "stdout",
          "output_type": "stream",
          "text": [
            "🏃 View run SVR_trial at: http://127.0.0.1:5000/#/experiments/184415391709998126/runs/e014fae2642041659c65abfd005a1321\n",
            "\n",
            "🧪 View experiment at: http://127.0.0.1:5000/#/experiments/184415391709998126     \n",
            "\n",
            " 48%|████▊     | 12/25 [00:33<00:37,  2.85s/trial, best loss: 0.03847543237588842]"
          ]
        },
        {
          "name": "stderr",
          "output_type": "stream",
          "text": [
            "Downloading artifacts:   0%|          | 0/7 [00:00<?, ?it/s]\n",
            "Downloading artifacts:  14%|#4        | 1/7 [00:00<00:00, 998.88it/s]\n",
            "Downloading artifacts:  29%|##8       | 2/7 [00:00<00:00, 1997.76it/s]\n",
            "Downloading artifacts:  43%|####2     | 3/7 [00:00<00:00, 1500.29it/s]\n",
            "Downloading artifacts:  57%|#####7    | 4/7 [00:00<00:00, 1325.11it/s]\n",
            "Downloading artifacts:  71%|#######1  | 5/7 [00:00<00:00, 1656.39it/s]\n",
            "Downloading artifacts:  86%|########5 | 6/7 [00:00<00:00, 1499.75it/s]\n",
            "Downloading artifacts: 100%|##########| 7/7 [00:00<00:00, 1399.97it/s]\n",
            "Downloading artifacts: 100%|##########| 7/7 [00:00<00:00, 1160.30it/s]\n"
          ]
        },
        {
          "name": "stdout",
          "output_type": "stream",
          "text": [
            "🏃 View run SVR_trial at: http://127.0.0.1:5000/#/experiments/184415391709998126/runs/662a92aaf5ba441f97994394a261ef30\n",
            "\n",
            "🧪 View experiment at: http://127.0.0.1:5000/#/experiments/184415391709998126     \n",
            "\n",
            " 52%|█████▏    | 13/25 [00:36<00:34,  2.85s/trial, best loss: 0.026345670473972304]"
          ]
        },
        {
          "name": "stderr",
          "output_type": "stream",
          "text": [
            "Downloading artifacts:   0%|          | 0/7 [00:00<?, ?it/s]\n",
            "Downloading artifacts:  14%|#4        | 1/7 [00:00<?, ?it/s]\n",
            "Downloading artifacts:  29%|##8       | 2/7 [00:00<00:00, 2002.53it/s]\n",
            "Downloading artifacts:  43%|####2     | 3/7 [00:00<00:00, 1501.18it/s]\n",
            "Downloading artifacts:  57%|#####7    | 4/7 [00:00<00:00, 2001.58it/s]\n",
            "Downloading artifacts:  71%|#######1  | 5/7 [00:00<00:00, 1667.72it/s]\n",
            "Downloading artifacts:  86%|########5 | 6/7 [00:00<00:00, 1500.65it/s]\n",
            "Downloading artifacts: 100%|##########| 7/7 [00:00<00:00, 1393.52it/s]\n",
            "Downloading artifacts: 100%|##########| 7/7 [00:00<00:00, 1393.52it/s]\n"
          ]
        },
        {
          "name": "stdout",
          "output_type": "stream",
          "text": [
            "🏃 View run SVR_trial at: http://127.0.0.1:5000/#/experiments/184415391709998126/runs/d73c60caf5ae4963837e085f23c92f97\n",
            "\n",
            "🧪 View experiment at: http://127.0.0.1:5000/#/experiments/184415391709998126      \n",
            "\n",
            " 56%|█████▌    | 14/25 [00:39<00:31,  2.83s/trial, best loss: 0.012689936744384928]"
          ]
        },
        {
          "name": "stderr",
          "output_type": "stream",
          "text": [
            "Downloading artifacts:   0%|          | 0/7 [00:00<?, ?it/s]\n",
            "Downloading artifacts:  14%|#4        | 1/7 [00:00<00:00, 985.97it/s]\n",
            "Downloading artifacts:  29%|##8       | 2/7 [00:00<00:00, 995.68it/s]\n",
            "Downloading artifacts:  43%|####2     | 3/7 [00:00<00:00, 1493.52it/s]\n",
            "Downloading artifacts:  57%|#####7    | 4/7 [00:00<00:00, 1337.04it/s]\n",
            "Downloading artifacts:  71%|#######1  | 5/7 [00:00<00:00, 1253.98it/s]\n",
            "Downloading artifacts:  86%|########5 | 6/7 [00:00<00:00, 1504.77it/s]\n",
            "Downloading artifacts: 100%|##########| 7/7 [00:00<00:00, 1403.45it/s]\n",
            "Downloading artifacts: 100%|##########| 7/7 [00:00<00:00, 1168.89it/s]\n"
          ]
        },
        {
          "name": "stdout",
          "output_type": "stream",
          "text": [
            "🏃 View run SVR_trial at: http://127.0.0.1:5000/#/experiments/184415391709998126/runs/71e93cd192a1447a81aecde6fc02f961\n",
            "\n",
            "🧪 View experiment at: http://127.0.0.1:5000/#/experiments/184415391709998126      \n",
            "\n",
            " 60%|██████    | 15/25 [00:42<00:28,  2.81s/trial, best loss: 0.012689936744384928]"
          ]
        },
        {
          "name": "stderr",
          "output_type": "stream",
          "text": [
            "Downloading artifacts:   0%|          | 0/7 [00:00<?, ?it/s]\n",
            "Downloading artifacts:  14%|#4        | 1/7 [00:00<?, ?it/s]\n",
            "Downloading artifacts:  29%|##8       | 2/7 [00:00<00:00, 999.95it/s]\n",
            "Downloading artifacts:  43%|####2     | 3/7 [00:00<00:00, 1000.63it/s]\n",
            "Downloading artifacts:  57%|#####7    | 4/7 [00:00<00:00, 1334.17it/s]\n",
            "Downloading artifacts:  71%|#######1  | 5/7 [00:00<00:00, 1250.54it/s]\n",
            "Downloading artifacts:  86%|########5 | 6/7 [00:00<00:00, 1192.02it/s]\n",
            "Downloading artifacts: 100%|##########| 7/7 [00:00<00:00, 1166.80it/s]\n",
            "Downloading artifacts: 100%|##########| 7/7 [00:00<00:00, 1166.80it/s]\n"
          ]
        },
        {
          "name": "stdout",
          "output_type": "stream",
          "text": [
            "🏃 View run SVR_trial at: http://127.0.0.1:5000/#/experiments/184415391709998126/runs/cac7ec2b81e644ecaa459b8d0240312f\n",
            "\n",
            "🧪 View experiment at: http://127.0.0.1:5000/#/experiments/184415391709998126      \n",
            "\n",
            " 64%|██████▍   | 16/25 [00:44<00:25,  2.82s/trial, best loss: 0.012689936744384928]"
          ]
        },
        {
          "name": "stderr",
          "output_type": "stream",
          "text": [
            "Downloading artifacts:   0%|          | 0/7 [00:00<?, ?it/s]\n",
            "Downloading artifacts:  14%|#4        | 1/7 [00:00<?, ?it/s]\n",
            "Downloading artifacts:  29%|##8       | 2/7 [00:00<00:00, 1998.72it/s]\n",
            "Downloading artifacts:  43%|####2     | 3/7 [00:00<00:00, 1499.39it/s]\n",
            "Downloading artifacts:  57%|#####7    | 4/7 [00:00<00:00, 1324.27it/s]\n",
            "Downloading artifacts:  71%|#######1  | 5/7 [00:00<00:00, 1655.34it/s]\n",
            "Downloading artifacts:  86%|########5 | 6/7 [00:00<00:00, 1500.29it/s]\n",
            "Downloading artifacts: 100%|##########| 7/7 [00:00<00:00, 1400.17it/s]\n",
            "Downloading artifacts: 100%|##########| 7/7 [00:00<00:00, 1400.17it/s]\n"
          ]
        },
        {
          "name": "stdout",
          "output_type": "stream",
          "text": [
            "🏃 View run SVR_trial at: http://127.0.0.1:5000/#/experiments/184415391709998126/runs/359390c66fc041e1a7523cfe4af81efd\n",
            "\n",
            "🧪 View experiment at: http://127.0.0.1:5000/#/experiments/184415391709998126      \n",
            "\n",
            " 68%|██████▊   | 17/25 [00:47<00:22,  2.83s/trial, best loss: 0.012689936744384928]"
          ]
        },
        {
          "name": "stderr",
          "output_type": "stream",
          "text": [
            "Downloading artifacts:   0%|          | 0/7 [00:00<?, ?it/s]\n",
            "Downloading artifacts:  14%|#4        | 1/7 [00:00<00:00, 985.04it/s]\n",
            "Downloading artifacts:  29%|##8       | 2/7 [00:00<00:00, 1970.08it/s]\n",
            "Downloading artifacts:  43%|####2     | 3/7 [00:00<00:00, 1475.14it/s]\n",
            "Downloading artifacts:  57%|#####7    | 4/7 [00:00<00:00, 1325.42it/s]\n",
            "Downloading artifacts:  71%|#######1  | 5/7 [00:00<00:00, 1656.78it/s]\n",
            "Downloading artifacts:  86%|########5 | 6/7 [00:00<00:00, 1500.65it/s]\n",
            "Downloading artifacts: 100%|##########| 7/7 [00:00<00:00, 1400.64it/s]\n",
            "Downloading artifacts: 100%|##########| 7/7 [00:00<00:00, 1163.79it/s]\n"
          ]
        },
        {
          "name": "stdout",
          "output_type": "stream",
          "text": [
            "🏃 View run SVR_trial at: http://127.0.0.1:5000/#/experiments/184415391709998126/runs/04e5fe4c44084c0eb8a1728f21ca743c\n",
            "\n",
            "🧪 View experiment at: http://127.0.0.1:5000/#/experiments/184415391709998126      \n",
            "\n",
            " 72%|███████▏  | 18/25 [00:50<00:19,  2.82s/trial, best loss: 0.012689936744384928]"
          ]
        },
        {
          "name": "stderr",
          "output_type": "stream",
          "text": [
            "Downloading artifacts:   0%|          | 0/7 [00:00<?, ?it/s]\n",
            "Downloading artifacts:  14%|#4        | 1/7 [00:00<?, ?it/s]\n",
            "Downloading artifacts:  29%|##8       | 2/7 [00:00<00:00, 1999.19it/s]\n",
            "Downloading artifacts:  43%|####2     | 3/7 [00:00<00:00, 2998.79it/s]\n",
            "Downloading artifacts:  57%|#####7    | 4/7 [00:00<00:00, 2000.38it/s]\n",
            "Downloading artifacts:  71%|#######1  | 5/7 [00:00<00:00, 1666.79it/s]\n",
            "Downloading artifacts:  86%|########5 | 6/7 [00:00<00:00, 1499.84it/s]\n",
            "Downloading artifacts: 100%|##########| 7/7 [00:00<00:00, 1399.77it/s]\n",
            "Downloading artifacts: 100%|##########| 7/7 [00:00<00:00, 1399.77it/s]\n"
          ]
        },
        {
          "name": "stdout",
          "output_type": "stream",
          "text": [
            "🏃 View run SVR_trial at: http://127.0.0.1:5000/#/experiments/184415391709998126/runs/a30bc3b69be04d4b99a9d6a867660411\n",
            "\n",
            "🧪 View experiment at: http://127.0.0.1:5000/#/experiments/184415391709998126      \n",
            "\n",
            " 76%|███████▌  | 19/25 [00:53<00:16,  2.81s/trial, best loss: 0.012689936744384928]"
          ]
        },
        {
          "name": "stderr",
          "output_type": "stream",
          "text": [
            "Downloading artifacts:   0%|          | 0/7 [00:00<?, ?it/s]\n",
            "Downloading artifacts:  14%|#4        | 1/7 [00:00<?, ?it/s]\n",
            "Downloading artifacts:  29%|##8       | 2/7 [00:00<00:00, 1997.76it/s]\n",
            "Downloading artifacts:  43%|####2     | 3/7 [00:00<00:00, 1500.11it/s]\n",
            "Downloading artifacts:  57%|#####7    | 4/7 [00:00<00:00, 2000.14it/s]\n",
            "Downloading artifacts:  71%|#######1  | 5/7 [00:00<00:00, 1666.79it/s]\n",
            "Downloading artifacts:  86%|########5 | 6/7 [00:00<00:00, 1499.84it/s]\n",
            "Downloading artifacts: 100%|##########| 7/7 [00:00<00:00, 1749.81it/s]\n",
            "Downloading artifacts: 100%|##########| 7/7 [00:00<00:00, 1400.10it/s]\n"
          ]
        },
        {
          "name": "stdout",
          "output_type": "stream",
          "text": [
            "🏃 View run SVR_trial at: http://127.0.0.1:5000/#/experiments/184415391709998126/runs/b1427b3edd094b74bd3c6402f07c2f01\n",
            "\n",
            "🧪 View experiment at: http://127.0.0.1:5000/#/experiments/184415391709998126      \n",
            "\n",
            " 80%|████████  | 20/25 [00:56<00:14,  2.82s/trial, best loss: 0.012689936744384928]"
          ]
        },
        {
          "name": "stderr",
          "output_type": "stream",
          "text": [
            "Downloading artifacts:   0%|          | 0/7 [00:00<?, ?it/s]\n",
            "Downloading artifacts:  14%|#4        | 1/7 [00:00<00:00, 1004.14it/s]\n",
            "Downloading artifacts:  29%|##8       | 2/7 [00:00<00:00, 1002.22it/s]\n",
            "Downloading artifacts:  43%|####2     | 3/7 [00:00<00:00, 1503.33it/s]\n",
            "Downloading artifacts:  57%|#####7    | 4/7 [00:00<00:00, 1335.13it/s]\n",
            "Downloading artifacts:  71%|#######1  | 5/7 [00:00<00:00, 1251.13it/s]\n",
            "Downloading artifacts:  86%|########5 | 6/7 [00:00<00:00, 1501.36it/s]\n",
            "Downloading artifacts: 100%|##########| 7/7 [00:00<00:00, 1400.97it/s]\n",
            "Downloading artifacts: 100%|##########| 7/7 [00:00<00:00, 1400.97it/s]\n"
          ]
        },
        {
          "name": "stdout",
          "output_type": "stream",
          "text": [
            "🏃 View run SVR_trial at: http://127.0.0.1:5000/#/experiments/184415391709998126/runs/ec2f12c68aca4a16afc27787e9757f63\n",
            "\n",
            "🧪 View experiment at: http://127.0.0.1:5000/#/experiments/184415391709998126      \n",
            "\n",
            " 84%|████████▍ | 21/25 [00:59<00:11,  2.83s/trial, best loss: 0.010579239130985997]"
          ]
        },
        {
          "name": "stderr",
          "output_type": "stream",
          "text": [
            "Downloading artifacts:   0%|          | 0/7 [00:00<?, ?it/s]\n",
            "Downloading artifacts:  14%|#4        | 1/7 [00:00<?, ?it/s]\n",
            "Downloading artifacts:  29%|##8       | 2/7 [00:00<00:00, 1998.24it/s]\n",
            "Downloading artifacts:  43%|####2     | 3/7 [00:00<00:00, 2997.36it/s]\n",
            "Downloading artifacts:  57%|#####7    | 4/7 [00:00<00:00, 1999.91it/s]\n",
            "Downloading artifacts:  71%|#######1  | 5/7 [00:00<00:00, 1666.52it/s]\n",
            "Downloading artifacts:  86%|########5 | 6/7 [00:00<00:00, 1500.11it/s]\n",
            "Downloading artifacts: 100%|##########| 7/7 [00:00<00:00, 1750.13it/s]\n",
            "Downloading artifacts: 100%|##########| 7/7 [00:00<00:00, 1399.83it/s]\n"
          ]
        },
        {
          "name": "stdout",
          "output_type": "stream",
          "text": [
            "🏃 View run SVR_trial at: http://127.0.0.1:5000/#/experiments/184415391709998126/runs/457dbedb3b2744b193b93ed07ac65910\n",
            "\n",
            "🧪 View experiment at: http://127.0.0.1:5000/#/experiments/184415391709998126      \n",
            "\n",
            " 88%|████████▊ | 22/25 [01:01<00:08,  2.82s/trial, best loss: 0.010579239130985997]"
          ]
        },
        {
          "name": "stderr",
          "output_type": "stream",
          "text": [
            "Downloading artifacts:   0%|          | 0/7 [00:00<?, ?it/s]\n",
            "Downloading artifacts:  14%|#4        | 1/7 [00:00<?, ?it/s]\n",
            "Downloading artifacts:  29%|##8       | 2/7 [00:00<00:00, 2002.53it/s]\n",
            "Downloading artifacts:  43%|####2     | 3/7 [00:00<00:00, 1498.32it/s]\n",
            "Downloading artifacts:  57%|#####7    | 4/7 [00:00<00:00, 1997.76it/s]\n",
            "Downloading artifacts:  71%|#######1  | 5/7 [00:00<00:00, 1667.32it/s]\n",
            "Downloading artifacts:  86%|########5 | 6/7 [00:00<00:00, 1500.29it/s]\n",
            "Downloading artifacts: 100%|##########| 7/7 [00:00<00:00, 1750.34it/s]\n",
            "Downloading artifacts: 100%|##########| 7/7 [00:00<00:00, 1399.03it/s]\n"
          ]
        },
        {
          "name": "stdout",
          "output_type": "stream",
          "text": [
            "🏃 View run SVR_trial at: http://127.0.0.1:5000/#/experiments/184415391709998126/runs/0e74c5247c184395b5029d65ed0cd88e\n",
            "\n",
            "🧪 View experiment at: http://127.0.0.1:5000/#/experiments/184415391709998126      \n",
            "\n",
            " 92%|█████████▏| 23/25 [01:04<00:05,  2.80s/trial, best loss: 0.010579239130985997]"
          ]
        },
        {
          "name": "stderr",
          "output_type": "stream",
          "text": [
            "Downloading artifacts:   0%|          | 0/7 [00:00<?, ?it/s]\n",
            "Downloading artifacts:  14%|#4        | 1/7 [00:00<?, ?it/s]\n",
            "Downloading artifacts:  29%|##8       | 2/7 [00:00<00:00, 2000.14it/s]\n",
            "Downloading artifacts:  43%|####2     | 3/7 [00:00<00:00, 998.09it/s] \n",
            "Downloading artifacts:  57%|#####7    | 4/7 [00:00<00:00, 1000.01it/s]\n",
            "Downloading artifacts:  71%|#######1  | 5/7 [00:00<00:00, 1250.02it/s]\n",
            "Downloading artifacts:  86%|########5 | 6/7 [00:00<00:00, 1199.97it/s]\n",
            "Downloading artifacts: 100%|##########| 7/7 [00:00<00:00, 1166.61it/s]\n",
            "Downloading artifacts: 100%|##########| 7/7 [00:00<00:00, 1166.61it/s]\n"
          ]
        },
        {
          "name": "stdout",
          "output_type": "stream",
          "text": [
            "🏃 View run SVR_trial at: http://127.0.0.1:5000/#/experiments/184415391709998126/runs/60ee98f78326495badaaea2a785f2495\n",
            "\n",
            "🧪 View experiment at: http://127.0.0.1:5000/#/experiments/184415391709998126      \n",
            "\n",
            " 96%|█████████▌| 24/25 [01:07<00:02,  2.82s/trial, best loss: 0.010579239130985997]"
          ]
        },
        {
          "name": "stderr",
          "output_type": "stream",
          "text": [
            "Downloading artifacts:   0%|          | 0/7 [00:00<?, ?it/s]\n",
            "Downloading artifacts:  14%|#4        | 1/7 [00:00<00:00, 1004.14it/s]\n",
            "Downloading artifacts:  29%|##8       | 2/7 [00:00<00:00, 2008.29it/s]\n",
            "Downloading artifacts:  43%|####2     | 3/7 [00:00<00:00, 1502.80it/s]\n",
            "Downloading artifacts:  57%|#####7    | 4/7 [00:00<00:00, 1334.70it/s]\n",
            "Downloading artifacts:  71%|#######1  | 5/7 [00:00<00:00, 1251.51it/s]\n",
            "Downloading artifacts:  86%|########5 | 6/7 [00:00<00:00, 1501.81it/s]\n",
            "Downloading artifacts: 100%|##########| 7/7 [00:00<00:00, 1401.37it/s]\n",
            "Downloading artifacts: 100%|##########| 7/7 [00:00<00:00, 1167.31it/s]\n"
          ]
        },
        {
          "name": "stdout",
          "output_type": "stream",
          "text": [
            "🏃 View run SVR_trial at: http://127.0.0.1:5000/#/experiments/184415391709998126/runs/4dae9e90cc5e4eb39cd0b4cd684a6103\n",
            "\n",
            "🧪 View experiment at: http://127.0.0.1:5000/#/experiments/184415391709998126      \n",
            "\n",
            "100%|██████████| 25/25 [01:10<00:00,  2.81s/trial, best loss: 0.010579239130985997]\n",
            "🏃 View run SVR_tuning at: http://127.0.0.1:5000/#/experiments/184415391709998126/runs/ad73da59b1cd464792eab48f3c76eb86\n",
            "🧪 View experiment at: http://127.0.0.1:5000/#/experiments/184415391709998126\n",
            "\n",
            "🔍 Tuning: XGBoost\n",
            "  0%|          | 0/25 [00:00<?, ?trial/s, best loss=?]"
          ]
        },
        {
          "name": "stderr",
          "output_type": "stream",
          "text": [
            "Downloading artifacts:   0%|          | 0/7 [00:00<?, ?it/s]\n",
            "Downloading artifacts:  14%|#4        | 1/7 [00:00<00:00, 1003.42it/s]\n",
            "Downloading artifacts:  29%|##8       | 2/7 [00:00<00:00, 2006.84it/s]\n",
            "Downloading artifacts:  43%|####2     | 3/7 [00:00<00:00, 999.12it/s] \n",
            "Downloading artifacts:  57%|#####7    | 4/7 [00:00<00:00, 1000.25it/s]\n",
            "Downloading artifacts:  71%|#######1  | 5/7 [00:00<00:00, 1250.31it/s]\n",
            "Downloading artifacts:  86%|########5 | 6/7 [00:00<00:00, 1196.89it/s]\n",
            "Downloading artifacts: 100%|##########| 7/7 [00:00<00:00, 1167.17it/s]\n",
            "Downloading artifacts: 100%|##########| 7/7 [00:00<00:00, 1167.17it/s]\n"
          ]
        },
        {
          "name": "stdout",
          "output_type": "stream",
          "text": [
            "🏃 View run XGBoost_trial at: http://127.0.0.1:5000/#/experiments/184415391709998126/runs/e872580a58f34f8e88911d9561d3e635\n",
            "\n",
            "🧪 View experiment at: http://127.0.0.1:5000/#/experiments/184415391709998126\n",
            "\n",
            "  4%|▍         | 1/25 [00:03<01:14,  3.09s/trial, best loss: 0.026760204543294877]"
          ]
        },
        {
          "name": "stderr",
          "output_type": "stream",
          "text": [
            "Downloading artifacts:   0%|          | 0/7 [00:00<?, ?it/s]\n",
            "Downloading artifacts:  14%|#4        | 1/7 [00:00<00:00, 998.64it/s]\n",
            "Downloading artifacts:  29%|##8       | 2/7 [00:00<00:00, 1997.29it/s]\n",
            "Downloading artifacts:  43%|####2     | 3/7 [00:00<00:00, 1499.75it/s]\n",
            "Downloading artifacts:  57%|#####7    | 4/7 [00:00<00:00, 1333.32it/s]\n",
            "Downloading artifacts:  71%|#######1  | 5/7 [00:00<00:00, 1250.39it/s]\n",
            "Downloading artifacts:  86%|########5 | 6/7 [00:00<00:00, 1200.09it/s]\n",
            "Downloading artifacts: 100%|##########| 7/7 [00:00<00:00, 1166.80it/s]\n",
            "Downloading artifacts: 100%|##########| 7/7 [00:00<00:00, 1166.80it/s]\n"
          ]
        },
        {
          "name": "stdout",
          "output_type": "stream",
          "text": [
            "🏃 View run XGBoost_trial at: http://127.0.0.1:5000/#/experiments/184415391709998126/runs/6c75ff53bb2b4dffb9fd21258f474336\n",
            "\n",
            "🧪 View experiment at: http://127.0.0.1:5000/#/experiments/184415391709998126     \n",
            "\n",
            "  8%|▊         | 2/25 [00:06<01:09,  3.03s/trial, best loss: 0.026760204543294877]"
          ]
        },
        {
          "name": "stderr",
          "output_type": "stream",
          "text": [
            "Downloading artifacts:   0%|          | 0/7 [00:00<?, ?it/s]\n",
            "Downloading artifacts:  14%|#4        | 1/7 [00:00<00:00, 1002.70it/s]\n",
            "Downloading artifacts:  29%|##8       | 2/7 [00:00<00:00, 2005.40it/s]\n",
            "Downloading artifacts:  43%|####2     | 3/7 [00:00<00:00, 1501.54it/s]\n",
            "Downloading artifacts:  57%|#####7    | 4/7 [00:00<00:00, 1334.70it/s]\n",
            "Downloading artifacts:  71%|#######1  | 5/7 [00:00<00:00, 1251.28it/s]\n",
            "Downloading artifacts:  86%|########5 | 6/7 [00:00<00:00, 1501.54it/s]\n",
            "Downloading artifacts: 100%|##########| 7/7 [00:00<00:00, 1401.10it/s]\n",
            "Downloading artifacts: 100%|##########| 7/7 [00:00<00:00, 1167.17it/s]\n"
          ]
        },
        {
          "name": "stdout",
          "output_type": "stream",
          "text": [
            "🏃 View run XGBoost_trial at: http://127.0.0.1:5000/#/experiments/184415391709998126/runs/5dd2b4bcb1cb47d9999552655f12d484\n",
            "\n",
            "🧪 View experiment at: http://127.0.0.1:5000/#/experiments/184415391709998126     \n",
            "\n",
            " 12%|█▏        | 3/25 [00:09<01:06,  3.02s/trial, best loss: 0.026760204543294877]"
          ]
        },
        {
          "name": "stderr",
          "output_type": "stream",
          "text": [
            "Downloading artifacts:   0%|          | 0/7 [00:00<?, ?it/s]\n",
            "Downloading artifacts:  14%|#4        | 1/7 [00:00<00:00, 1889.33it/s]\n",
            "Downloading artifacts:  29%|##8       | 2/7 [00:00<00:00, 1900.45it/s]\n",
            "Downloading artifacts:  43%|####2     | 3/7 [00:00<00:00, 1430.85it/s]\n",
            "Downloading artifacts:  57%|#####7    | 4/7 [00:00<00:00, 1528.82it/s]\n",
            "Downloading artifacts:  71%|#######1  | 5/7 [00:00<00:00, 1368.99it/s]\n",
            "Downloading artifacts:  86%|########5 | 6/7 [00:00<00:00, 1438.79it/s]\n",
            "Downloading artifacts: 100%|##########| 7/7 [00:00<00:00, 1344.21it/s]\n",
            "Downloading artifacts: 100%|##########| 7/7 [00:00<00:00, 1222.27it/s]\n"
          ]
        },
        {
          "name": "stdout",
          "output_type": "stream",
          "text": [
            "🏃 View run XGBoost_trial at: http://127.0.0.1:5000/#/experiments/184415391709998126/runs/65b9b37084b840e5b1541fc10204f478\n",
            "\n",
            "🧪 View experiment at: http://127.0.0.1:5000/#/experiments/184415391709998126     \n",
            "\n",
            " 16%|█▌        | 4/25 [00:12<01:04,  3.08s/trial, best loss: 0.026760204543294877]"
          ]
        },
        {
          "name": "stderr",
          "output_type": "stream",
          "text": [
            "Downloading artifacts:   0%|          | 0/7 [00:00<?, ?it/s]\n",
            "Downloading artifacts:  14%|#4        | 1/7 [00:00<?, ?it/s]\n",
            "Downloading artifacts:  29%|##8       | 2/7 [00:00<00:00, 2003.49it/s]\n",
            "Downloading artifacts:  43%|####2     | 3/7 [00:00<00:00, 3005.23it/s]\n",
            "Downloading artifacts:  57%|#####7    | 4/7 [00:00<00:00, 2001.58it/s]\n",
            "Downloading artifacts:  71%|#######1  | 5/7 [00:00<00:00, 1667.58it/s]\n",
            "Downloading artifacts:  86%|########5 | 6/7 [00:00<00:00, 1491.22it/s]\n",
            "Downloading artifacts: 100%|##########| 7/7 [00:00<00:00, 1400.30it/s]\n",
            "Downloading artifacts: 100%|##########| 7/7 [00:00<00:00, 1400.30it/s]\n"
          ]
        },
        {
          "name": "stdout",
          "output_type": "stream",
          "text": [
            "🏃 View run XGBoost_trial at: http://127.0.0.1:5000/#/experiments/184415391709998126/runs/18869ac2332345a6be471aa3e9f177e5\n",
            "\n",
            "🧪 View experiment at: http://127.0.0.1:5000/#/experiments/184415391709998126     \n",
            "\n",
            " 20%|██        | 5/25 [00:15<01:01,  3.07s/trial, best loss: 0.026760204543294877]"
          ]
        },
        {
          "name": "stderr",
          "output_type": "stream",
          "text": [
            "Downloading artifacts:   0%|          | 0/7 [00:00<?, ?it/s]\n",
            "Downloading artifacts:  14%|#4        | 1/7 [00:00<?, ?it/s]\n",
            "Downloading artifacts:  29%|##8       | 2/7 [00:00<?, ?it/s]\n",
            "Downloading artifacts:  43%|####2     | 3/7 [00:00<00:00, 1511.64it/s]\n",
            "Downloading artifacts:  57%|#####7    | 4/7 [00:00<00:00, 1340.46it/s]\n",
            "Downloading artifacts:  71%|#######1  | 5/7 [00:00<00:00, 1675.58it/s]\n",
            "Downloading artifacts:  86%|########5 | 6/7 [00:00<00:00, 1493.79it/s]\n",
            "Downloading artifacts: 100%|##########| 7/7 [00:00<00:00, 1266.07it/s]\n",
            "Downloading artifacts: 100%|##########| 7/7 [00:00<00:00, 1266.07it/s]\n"
          ]
        },
        {
          "name": "stdout",
          "output_type": "stream",
          "text": [
            "🏃 View run XGBoost_trial at: http://127.0.0.1:5000/#/experiments/184415391709998126/runs/ae81a301bf7b4a8d8d73030e60818b1b\n",
            "\n",
            "🧪 View experiment at: http://127.0.0.1:5000/#/experiments/184415391709998126     \n",
            "\n",
            " 24%|██▍       | 6/25 [00:18<00:58,  3.10s/trial, best loss: 0.026760204543294877]"
          ]
        },
        {
          "name": "stderr",
          "output_type": "stream",
          "text": [
            "Downloading artifacts:   0%|          | 0/7 [00:00<?, ?it/s]\n",
            "Downloading artifacts:  14%|#4        | 1/7 [00:00<?, ?it/s]\n",
            "Downloading artifacts:  29%|##8       | 2/7 [00:00<00:00, 1986.41it/s]\n",
            "Downloading artifacts:  43%|####2     | 3/7 [00:00<00:00, 2979.61it/s]\n",
            "Downloading artifacts:  57%|#####7    | 4/7 [00:00<00:00, 1996.81it/s]\n",
            "Downloading artifacts:  71%|#######1  | 5/7 [00:00<00:00, 1666.52it/s]\n",
            "Downloading artifacts:  86%|########5 | 6/7 [00:00<00:00, 1499.57it/s]\n",
            "Downloading artifacts: 100%|##########| 7/7 [00:00<00:00, 1749.50it/s]\n",
            "Downloading artifacts: 100%|##########| 7/7 [00:00<00:00, 1400.17it/s]\n"
          ]
        },
        {
          "name": "stdout",
          "output_type": "stream",
          "text": [
            "🏃 View run XGBoost_trial at: http://127.0.0.1:5000/#/experiments/184415391709998126/runs/6d3c5250902e4c4e950f9adeb000cae4\n",
            "\n",
            "🧪 View experiment at: http://127.0.0.1:5000/#/experiments/184415391709998126     \n",
            "\n",
            " 28%|██▊       | 7/25 [00:21<00:55,  3.09s/trial, best loss: 0.026760204543294877]"
          ]
        },
        {
          "name": "stderr",
          "output_type": "stream",
          "text": [
            "Downloading artifacts:   0%|          | 0/7 [00:00<?, ?it/s]\n",
            "Downloading artifacts:  14%|#4        | 1/7 [00:00<?, ?it/s]\n",
            "Downloading artifacts:  29%|##8       | 2/7 [00:00<00:00, 1931.52it/s]\n",
            "Downloading artifacts:  43%|####2     | 3/7 [00:00<00:00, 1498.86it/s]\n",
            "Downloading artifacts:  57%|#####7    | 4/7 [00:00<00:00, 1998.48it/s]\n",
            "Downloading artifacts:  71%|#######1  | 5/7 [00:00<00:00, 1662.95it/s]\n",
            "Downloading artifacts:  86%|########5 | 6/7 [00:00<00:00, 1499.75it/s]\n",
            "Downloading artifacts: 100%|##########| 7/7 [00:00<00:00, 1399.03it/s]\n",
            "Downloading artifacts: 100%|##########| 7/7 [00:00<00:00, 1399.03it/s]\n"
          ]
        },
        {
          "name": "stdout",
          "output_type": "stream",
          "text": [
            "🏃 View run XGBoost_trial at: http://127.0.0.1:5000/#/experiments/184415391709998126/runs/fdff8855790c4b0783d61100e4edd91c\n",
            "\n",
            "🧪 View experiment at: http://127.0.0.1:5000/#/experiments/184415391709998126     \n",
            "\n",
            " 32%|███▏      | 8/25 [00:24<00:52,  3.10s/trial, best loss: 0.026760204543294877]"
          ]
        },
        {
          "name": "stderr",
          "output_type": "stream",
          "text": [
            "Downloading artifacts:   0%|          | 0/7 [00:00<?, ?it/s]\n",
            "Downloading artifacts:  14%|#4        | 1/7 [00:00<00:00, 998.41it/s]\n",
            "Downloading artifacts:  29%|##8       | 2/7 [00:00<00:00, 1996.81it/s]\n",
            "Downloading artifacts:  43%|####2     | 3/7 [00:00<00:00, 1488.22it/s]\n",
            "Downloading artifacts:  57%|#####7    | 4/7 [00:00<00:00, 1335.87it/s]\n",
            "Downloading artifacts:  71%|#######1  | 5/7 [00:00<00:00, 1250.61it/s]\n",
            "Downloading artifacts:  86%|########5 | 6/7 [00:00<00:00, 1500.73it/s]\n",
            "Downloading artifacts: 100%|##########| 7/7 [00:00<00:00, 1399.30it/s]\n",
            "Downloading artifacts: 100%|##########| 7/7 [00:00<00:00, 1168.05it/s]\n"
          ]
        },
        {
          "name": "stdout",
          "output_type": "stream",
          "text": [
            "🏃 View run XGBoost_trial at: http://127.0.0.1:5000/#/experiments/184415391709998126/runs/a39e5be5019e4d30bd5aa0c357e78815\n",
            "\n",
            "🧪 View experiment at: http://127.0.0.1:5000/#/experiments/184415391709998126     \n",
            "\n",
            " 36%|███▌      | 9/25 [00:28<00:51,  3.21s/trial, best loss: 0.026760204543294877]"
          ]
        },
        {
          "name": "stderr",
          "output_type": "stream",
          "text": [
            "Downloading artifacts:   0%|          | 0/7 [00:00<?, ?it/s]\n",
            "Downloading artifacts:  14%|#4        | 1/7 [00:00<?, ?it/s]\n",
            "Downloading artifacts:  29%|##8       | 2/7 [00:00<?, ?it/s]\n",
            "Downloading artifacts:  43%|####2     | 3/7 [00:00<00:00, 2087.06it/s]\n",
            "Downloading artifacts:  57%|#####7    | 4/7 [00:00<00:00, 1637.76it/s]\n",
            "Downloading artifacts:  71%|#######1  | 5/7 [00:00<00:00, 1452.42it/s]\n",
            "Downloading artifacts:  86%|########5 | 6/7 [00:00<00:00, 1342.97it/s]\n",
            "Downloading artifacts: 100%|##########| 7/7 [00:00<00:00, 1566.79it/s]\n",
            "Downloading artifacts: 100%|##########| 7/7 [00:00<00:00, 1286.09it/s]\n"
          ]
        },
        {
          "name": "stdout",
          "output_type": "stream",
          "text": [
            "🏃 View run XGBoost_trial at: http://127.0.0.1:5000/#/experiments/184415391709998126/runs/c6d4b23f07cf4f8b9a7de00e88541a4d\n",
            "\n",
            "🧪 View experiment at: http://127.0.0.1:5000/#/experiments/184415391709998126     \n",
            "\n",
            " 40%|████      | 10/25 [00:31<00:47,  3.15s/trial, best loss: 0.024463471894390503]"
          ]
        },
        {
          "name": "stderr",
          "output_type": "stream",
          "text": [
            "Downloading artifacts:   0%|          | 0/7 [00:00<?, ?it/s]\n",
            "Downloading artifacts:  14%|#4        | 1/7 [00:00<?, ?it/s]\n",
            "Downloading artifacts:  29%|##8       | 2/7 [00:00<00:00, 2002.05it/s]\n",
            "Downloading artifacts:  43%|####2     | 3/7 [00:00<00:00, 1500.11it/s]\n",
            "Downloading artifacts:  57%|#####7    | 4/7 [00:00<00:00, 1328.36it/s]\n",
            "Downloading artifacts:  71%|#######1  | 5/7 [00:00<00:00, 1242.46it/s]\n",
            "Downloading artifacts:  86%|########5 | 6/7 [00:00<00:00, 1490.95it/s]\n",
            "Downloading artifacts: 100%|##########| 7/7 [00:00<00:00, 1399.83it/s]\n",
            "Downloading artifacts: 100%|##########| 7/7 [00:00<00:00, 1166.84it/s]\n"
          ]
        },
        {
          "name": "stdout",
          "output_type": "stream",
          "text": [
            "🏃 View run XGBoost_trial at: http://127.0.0.1:5000/#/experiments/184415391709998126/runs/c80b13ff26814153b77114e1f4c63848\n",
            "\n",
            "🧪 View experiment at: http://127.0.0.1:5000/#/experiments/184415391709998126      \n",
            "\n",
            " 44%|████▍     | 11/25 [00:34<00:44,  3.18s/trial, best loss: 0.024463471894390503]"
          ]
        },
        {
          "name": "stderr",
          "output_type": "stream",
          "text": [
            "Downloading artifacts:   0%|          | 0/7 [00:00<?, ?it/s]\n",
            "Downloading artifacts:  14%|#4        | 1/7 [00:00<?, ?it/s]\n",
            "Downloading artifacts:  29%|##8       | 2/7 [00:00<00:00, 996.86it/s]\n",
            "Downloading artifacts:  43%|####2     | 3/7 [00:00<00:00, 999.60it/s]\n",
            "Downloading artifacts:  57%|#####7    | 4/7 [00:00<00:00, 999.95it/s]\n",
            "Downloading artifacts:  71%|#######1  | 5/7 [00:00<00:00, 1249.94it/s]\n",
            "Downloading artifacts:  86%|########5 | 6/7 [00:00<00:00, 1200.20it/s]\n",
            "Downloading artifacts: 100%|##########| 7/7 [00:00<00:00, 1166.75it/s]\n",
            "Downloading artifacts: 100%|##########| 7/7 [00:00<00:00, 1000.04it/s]\n"
          ]
        },
        {
          "name": "stdout",
          "output_type": "stream",
          "text": [
            "🏃 View run XGBoost_trial at: http://127.0.0.1:5000/#/experiments/184415391709998126/runs/9a3e50cbb68d4c7a83aa88d53b683ba3\n",
            "\n",
            "🧪 View experiment at: http://127.0.0.1:5000/#/experiments/184415391709998126      \n",
            "\n",
            " 48%|████▊     | 12/25 [00:37<00:40,  3.15s/trial, best loss: 0.024463471894390503]"
          ]
        },
        {
          "name": "stderr",
          "output_type": "stream",
          "text": [
            "Downloading artifacts:   0%|          | 0/7 [00:00<?, ?it/s]\n",
            "Downloading artifacts:  14%|#4        | 1/7 [00:00<?, ?it/s]\n",
            "Downloading artifacts:  29%|##8       | 2/7 [00:00<?, ?it/s]\n",
            "Downloading artifacts:  43%|####2     | 3/7 [00:00<00:00, 2895.95it/s]\n",
            "Downloading artifacts:  57%|#####7    | 4/7 [00:00<00:00, 1981.72it/s]\n",
            "Downloading artifacts:  71%|#######1  | 5/7 [00:00<00:00, 1656.65it/s]\n",
            "Downloading artifacts:  86%|########5 | 6/7 [00:00<00:00, 1500.20it/s]\n",
            "Downloading artifacts: 100%|##########| 7/7 [00:00<00:00, 1750.23it/s]\n",
            "Downloading artifacts: 100%|##########| 7/7 [00:00<00:00, 1400.30it/s]\n"
          ]
        },
        {
          "name": "stdout",
          "output_type": "stream",
          "text": [
            "🏃 View run XGBoost_trial at: http://127.0.0.1:5000/#/experiments/184415391709998126/runs/bab73baae7f54a43b675803f84bae250\n",
            "\n",
            "🧪 View experiment at: http://127.0.0.1:5000/#/experiments/184415391709998126      \n",
            "\n",
            " 52%|█████▏    | 13/25 [00:40<00:38,  3.20s/trial, best loss: 0.024463471894390503]"
          ]
        },
        {
          "name": "stderr",
          "output_type": "stream",
          "text": [
            "Downloading artifacts:   0%|          | 0/7 [00:00<?, ?it/s]\n",
            "Downloading artifacts:  14%|#4        | 1/7 [00:00<?, ?it/s]\n",
            "Downloading artifacts:  29%|##8       | 2/7 [00:00<00:00, 1983.12it/s]\n",
            "Downloading artifacts:  43%|####2     | 3/7 [00:00<00:00, 2974.68it/s]\n",
            "Downloading artifacts:  57%|#####7    | 4/7 [00:00<00:00, 2010.93it/s]\n",
            "Downloading artifacts:  71%|#######1  | 5/7 [00:00<00:00, 1673.84it/s]\n",
            "Downloading artifacts:  86%|########5 | 6/7 [00:00<00:00, 2008.61it/s]\n",
            "Downloading artifacts: 100%|##########| 7/7 [00:00<00:00, 1517.87it/s]\n",
            "Downloading artifacts: 100%|##########| 7/7 [00:00<00:00, 1517.87it/s]\n"
          ]
        },
        {
          "name": "stdout",
          "output_type": "stream",
          "text": [
            "🏃 View run XGBoost_trial at: http://127.0.0.1:5000/#/experiments/184415391709998126/runs/284ec6ec4feb4352b5d58c297eb9b8e4\n",
            "\n",
            "🧪 View experiment at: http://127.0.0.1:5000/#/experiments/184415391709998126      \n",
            "\n",
            " 56%|█████▌    | 14/25 [00:44<00:35,  3.21s/trial, best loss: 0.024463471894390503]"
          ]
        },
        {
          "name": "stderr",
          "output_type": "stream",
          "text": [
            "Downloading artifacts:   0%|          | 0/7 [00:00<?, ?it/s]\n",
            "Downloading artifacts:  14%|#4        | 1/7 [00:00<?, ?it/s]\n",
            "Downloading artifacts:  29%|##8       | 2/7 [00:00<00:00, 2003.01it/s]\n",
            "Downloading artifacts:  43%|####2     | 3/7 [00:00<00:00, 3004.52it/s]\n",
            "Downloading artifacts:  57%|#####7    | 4/7 [00:00<00:00, 2001.82it/s]\n",
            "Downloading artifacts:  71%|#######1  | 5/7 [00:00<00:00, 1667.85it/s]\n",
            "Downloading artifacts:  86%|########5 | 6/7 [00:00<00:00, 1479.47it/s]\n",
            "Downloading artifacts: 100%|##########| 7/7 [00:00<00:00, 1383.54it/s]\n",
            "Downloading artifacts: 100%|##########| 7/7 [00:00<00:00, 1156.05it/s]\n"
          ]
        },
        {
          "name": "stdout",
          "output_type": "stream",
          "text": [
            "🏃 View run XGBoost_trial at: http://127.0.0.1:5000/#/experiments/184415391709998126/runs/571d4f342d784572897f55a5e81c345f\n",
            "\n",
            "🧪 View experiment at: http://127.0.0.1:5000/#/experiments/184415391709998126      \n",
            "\n",
            " 60%|██████    | 15/25 [00:47<00:31,  3.17s/trial, best loss: 0.024463471894390503]"
          ]
        },
        {
          "name": "stderr",
          "output_type": "stream",
          "text": [
            "Downloading artifacts:   0%|          | 0/7 [00:00<?, ?it/s]\n",
            "Downloading artifacts:  14%|#4        | 1/7 [00:00<?, ?it/s]\n",
            "Downloading artifacts:  29%|##8       | 2/7 [00:00<00:00, 2003.49it/s]\n",
            "Downloading artifacts:  43%|####2     | 3/7 [00:00<00:00, 1501.36it/s]\n",
            "Downloading artifacts:  57%|#####7    | 4/7 [00:00<00:00, 1334.49it/s]\n",
            "Downloading artifacts:  71%|#######1  | 5/7 [00:00<00:00, 1222.76it/s]\n",
            "Downloading artifacts:  86%|########5 | 6/7 [00:00<00:00, 1200.72it/s]\n",
            "Downloading artifacts: 100%|##########| 7/7 [00:00<00:00, 1167.22it/s]\n",
            "Downloading artifacts: 100%|##########| 7/7 [00:00<00:00, 1167.22it/s]\n"
          ]
        },
        {
          "name": "stdout",
          "output_type": "stream",
          "text": [
            "🏃 View run XGBoost_trial at: http://127.0.0.1:5000/#/experiments/184415391709998126/runs/ef2e0f08a58445fc99ffc24248308132\n",
            "\n",
            "🧪 View experiment at: http://127.0.0.1:5000/#/experiments/184415391709998126      \n",
            "\n",
            " 64%|██████▍   | 16/25 [00:50<00:28,  3.17s/trial, best loss: 0.024463471894390503]"
          ]
        },
        {
          "name": "stderr",
          "output_type": "stream",
          "text": [
            "Downloading artifacts:   0%|          | 0/7 [00:00<?, ?it/s]\n",
            "Downloading artifacts:  14%|#4        | 1/7 [00:00<?, ?it/s]\n",
            "Downloading artifacts:  29%|##8       | 2/7 [00:00<00:00, 2000.14it/s]\n",
            "Downloading artifacts:  43%|####2     | 3/7 [00:00<00:00, 1498.86it/s]\n",
            "Downloading artifacts:  57%|#####7    | 4/7 [00:00<00:00, 1333.54it/s]\n",
            "Downloading artifacts:  71%|#######1  | 5/7 [00:00<00:00, 1666.92it/s]\n",
            "Downloading artifacts:  86%|########5 | 6/7 [00:00<00:00, 1500.11it/s]\n",
            "Downloading artifacts: 100%|##########| 7/7 [00:00<00:00, 1400.03it/s]\n",
            "Downloading artifacts: 100%|##########| 7/7 [00:00<00:00, 1400.03it/s]\n"
          ]
        },
        {
          "name": "stdout",
          "output_type": "stream",
          "text": [
            "🏃 View run XGBoost_trial at: http://127.0.0.1:5000/#/experiments/184415391709998126/runs/256ddcb6d98246d18e569916a7aa5aab\n",
            "\n",
            "🧪 View experiment at: http://127.0.0.1:5000/#/experiments/184415391709998126      \n",
            "\n",
            " 68%|██████▊   | 17/25 [00:53<00:25,  3.23s/trial, best loss: 0.024463471894390503]"
          ]
        },
        {
          "name": "stderr",
          "output_type": "stream",
          "text": [
            "Downloading artifacts:   0%|          | 0/7 [00:00<?, ?it/s]\n",
            "Downloading artifacts:  14%|#4        | 1/7 [00:00<?, ?it/s]\n",
            "Downloading artifacts:  29%|##8       | 2/7 [00:00<00:00, 985.39it/s]\n",
            "Downloading artifacts:  43%|####2     | 3/7 [00:00<00:00, 999.60it/s]\n",
            "Downloading artifacts:  57%|#####7    | 4/7 [00:00<00:00, 1332.79it/s]\n",
            "Downloading artifacts:  71%|#######1  | 5/7 [00:00<00:00, 1250.39it/s]\n",
            "Downloading artifacts:  86%|########5 | 6/7 [00:00<00:00, 1200.26it/s]\n",
            "Downloading artifacts: 100%|##########| 7/7 [00:00<00:00, 1400.30it/s]\n",
            "Downloading artifacts: 100%|##########| 7/7 [00:00<00:00, 1166.70it/s]\n"
          ]
        },
        {
          "name": "stdout",
          "output_type": "stream",
          "text": [
            "🏃 View run XGBoost_trial at: http://127.0.0.1:5000/#/experiments/184415391709998126/runs/c57dcb577390425f8b57a64eabd03d0f\n",
            "\n",
            "🧪 View experiment at: http://127.0.0.1:5000/#/experiments/184415391709998126      \n",
            "\n",
            " 72%|███████▏  | 18/25 [00:56<00:22,  3.25s/trial, best loss: 0.024463471894390503]"
          ]
        },
        {
          "name": "stderr",
          "output_type": "stream",
          "text": [
            "Downloading artifacts:   0%|          | 0/7 [00:00<?, ?it/s]\n",
            "Downloading artifacts:  14%|#4        | 1/7 [00:00<?, ?it/s]\n",
            "Downloading artifacts:  29%|##8       | 2/7 [00:00<00:00, 2001.58it/s]\n",
            "Downloading artifacts:  43%|####2     | 3/7 [00:00<00:00, 1498.32it/s]\n",
            "Downloading artifacts:  57%|#####7    | 4/7 [00:00<00:00, 1333.11it/s]\n",
            "Downloading artifacts:  71%|#######1  | 5/7 [00:00<00:00, 1250.02it/s]\n",
            "Downloading artifacts:  86%|########5 | 6/7 [00:00<00:00, 1500.02it/s]\n",
            "Downloading artifacts: 100%|##########| 7/7 [00:00<00:00, 1399.77it/s]\n",
            "Downloading artifacts: 100%|##########| 7/7 [00:00<00:00, 1166.52it/s]\n"
          ]
        },
        {
          "name": "stdout",
          "output_type": "stream",
          "text": [
            "🏃 View run XGBoost_trial at: http://127.0.0.1:5000/#/experiments/184415391709998126/runs/bf1e8d5d100f43b183309033ef61caf7\n",
            "\n",
            "🧪 View experiment at: http://127.0.0.1:5000/#/experiments/184415391709998126      \n",
            "\n",
            " 76%|███████▌  | 19/25 [01:00<00:19,  3.25s/trial, best loss: 0.024463471894390503]"
          ]
        },
        {
          "name": "stderr",
          "output_type": "stream",
          "text": [
            "Downloading artifacts:   0%|          | 0/7 [00:00<?, ?it/s]\n",
            "Downloading artifacts:  14%|#4        | 1/7 [00:00<?, ?it/s]\n",
            "Downloading artifacts:  29%|##8       | 2/7 [00:00<00:00, 2006.84it/s]\n",
            "Downloading artifacts:  43%|####2     | 3/7 [00:00<00:00, 1503.33it/s]\n",
            "Downloading artifacts:  57%|#####7    | 4/7 [00:00<00:00, 1334.92it/s]\n",
            "Downloading artifacts:  71%|#######1  | 5/7 [00:00<00:00, 1250.76it/s]\n",
            "Downloading artifacts:  86%|########5 | 6/7 [00:00<00:00, 1200.37it/s]\n",
            "Downloading artifacts: 100%|##########| 7/7 [00:00<00:00, 1167.26it/s]\n",
            "Downloading artifacts: 100%|##########| 7/7 [00:00<00:00, 1167.26it/s]\n"
          ]
        },
        {
          "name": "stdout",
          "output_type": "stream",
          "text": [
            "🏃 View run XGBoost_trial at: http://127.0.0.1:5000/#/experiments/184415391709998126/runs/33f02d71eebb4426977cf9484786e854\n",
            "\n",
            "🧪 View experiment at: http://127.0.0.1:5000/#/experiments/184415391709998126      \n",
            "\n",
            " 80%|████████  | 20/25 [01:03<00:16,  3.29s/trial, best loss: 0.024463471894390503]"
          ]
        },
        {
          "name": "stderr",
          "output_type": "stream",
          "text": [
            "Downloading artifacts:   0%|          | 0/7 [00:00<?, ?it/s]\n",
            "Downloading artifacts:  14%|#4        | 1/7 [00:00<00:00, 993.91it/s]\n",
            "Downloading artifacts:  29%|##8       | 2/7 [00:00<00:00, 1987.82it/s]\n",
            "Downloading artifacts:  43%|####2     | 3/7 [00:00<00:00, 1495.47it/s]\n",
            "Downloading artifacts:  57%|#####7    | 4/7 [00:00<00:00, 1331.21it/s]\n",
            "Downloading artifacts:  71%|#######1  | 5/7 [00:00<00:00, 1248.45it/s]\n",
            "Downloading artifacts:  86%|########5 | 6/7 [00:00<00:00, 1498.14it/s]\n",
            "Downloading artifacts: 100%|##########| 7/7 [00:00<00:00, 1398.57it/s]\n",
            "Downloading artifacts: 100%|##########| 7/7 [00:00<00:00, 1398.57it/s]\n"
          ]
        },
        {
          "name": "stdout",
          "output_type": "stream",
          "text": [
            "🏃 View run XGBoost_trial at: http://127.0.0.1:5000/#/experiments/184415391709998126/runs/a5233739d37541d3b7c92585b7be2127\n",
            "\n",
            "🧪 View experiment at: http://127.0.0.1:5000/#/experiments/184415391709998126      \n",
            "\n",
            " 84%|████████▍ | 21/25 [01:07<00:13,  3.35s/trial, best loss: 0.024463471894390503]"
          ]
        },
        {
          "name": "stderr",
          "output_type": "stream",
          "text": [
            "Downloading artifacts:   0%|          | 0/7 [00:00<?, ?it/s]\n",
            "Downloading artifacts:  14%|#4        | 1/7 [00:00<?, ?it/s]\n",
            "Downloading artifacts:  29%|##8       | 2/7 [00:00<00:00, 1999.67it/s]\n",
            "Downloading artifacts:  43%|####2     | 3/7 [00:00<00:00, 1482.96it/s]\n",
            "Downloading artifacts:  57%|#####7    | 4/7 [00:00<00:00, 1332.37it/s]\n",
            "Downloading artifacts:  71%|#######1  | 5/7 [00:00<00:00, 1248.01it/s]\n",
            "Downloading artifacts:  86%|########5 | 6/7 [00:00<00:00, 1199.92it/s]\n",
            "Downloading artifacts: 100%|##########| 7/7 [00:00<00:00, 1399.90it/s]\n",
            "Downloading artifacts: 100%|##########| 7/7 [00:00<00:00, 1166.70it/s]\n"
          ]
        },
        {
          "name": "stdout",
          "output_type": "stream",
          "text": [
            "🏃 View run XGBoost_trial at: http://127.0.0.1:5000/#/experiments/184415391709998126/runs/6ad13a836b8946de8736b4ac3be03026\n",
            "\n",
            "🧪 View experiment at: http://127.0.0.1:5000/#/experiments/184415391709998126      \n",
            "\n",
            " 88%|████████▊ | 22/25 [01:10<00:10,  3.34s/trial, best loss: 0.024463471894390503]"
          ]
        },
        {
          "name": "stderr",
          "output_type": "stream",
          "text": [
            "Downloading artifacts:   0%|          | 0/7 [00:00<?, ?it/s]\n",
            "Downloading artifacts:  14%|#4        | 1/7 [00:00<00:00, 999.12it/s]\n",
            "Downloading artifacts:  29%|##8       | 2/7 [00:00<00:00, 988.87it/s]\n",
            "Downloading artifacts:  43%|####2     | 3/7 [00:00<00:00, 1483.31it/s]\n",
            "Downloading artifacts:  57%|#####7    | 4/7 [00:00<00:00, 1333.43it/s]\n",
            "Downloading artifacts:  71%|#######1  | 5/7 [00:00<00:00, 1249.42it/s]\n",
            "Downloading artifacts:  86%|########5 | 6/7 [00:00<00:00, 1198.37it/s]\n",
            "Downloading artifacts: 100%|##########| 7/7 [00:00<00:00, 1165.59it/s]\n",
            "Downloading artifacts: 100%|##########| 7/7 [00:00<00:00, 1165.59it/s]\n"
          ]
        },
        {
          "name": "stdout",
          "output_type": "stream",
          "text": [
            "🏃 View run XGBoost_trial at: http://127.0.0.1:5000/#/experiments/184415391709998126/runs/73034491bda041898c6bea8f08eea802\n",
            "\n",
            "🧪 View experiment at: http://127.0.0.1:5000/#/experiments/184415391709998126      \n",
            "\n",
            " 92%|█████████▏| 23/25 [01:13<00:06,  3.37s/trial, best loss: 0.024463471894390503]"
          ]
        },
        {
          "name": "stderr",
          "output_type": "stream",
          "text": [
            "Downloading artifacts:   0%|          | 0/7 [00:00<?, ?it/s]\n",
            "Downloading artifacts:  14%|#4        | 1/7 [00:00<00:00, 998.64it/s]\n",
            "Downloading artifacts:  29%|##8       | 2/7 [00:00<00:00, 999.60it/s]\n",
            "Downloading artifacts:  43%|####2     | 3/7 [00:00<00:00, 1000.07it/s]\n",
            "Downloading artifacts:  57%|#####7    | 4/7 [00:00<00:00, 999.77it/s] \n",
            "Downloading artifacts:  71%|#######1  | 5/7 [00:00<00:00, 999.93it/s]\n",
            "Downloading artifacts:  86%|########5 | 6/7 [00:00<00:00, 1199.92it/s]\n",
            "Downloading artifacts: 100%|##########| 7/7 [00:00<00:00, 1080.05it/s]\n",
            "Downloading artifacts: 100%|##########| 7/7 [00:00<00:00, 918.85it/s] \n"
          ]
        },
        {
          "name": "stdout",
          "output_type": "stream",
          "text": [
            "🏃 View run XGBoost_trial at: http://127.0.0.1:5000/#/experiments/184415391709998126/runs/4a90af90bf8b4f4da424ef0b74621d13\n",
            "\n",
            "🧪 View experiment at: http://127.0.0.1:5000/#/experiments/184415391709998126      \n",
            "\n",
            " 96%|█████████▌| 24/25 [01:16<00:03,  3.31s/trial, best loss: 0.024463471894390503]"
          ]
        },
        {
          "name": "stderr",
          "output_type": "stream",
          "text": [
            "Downloading artifacts:   0%|          | 0/7 [00:00<?, ?it/s]\n",
            "Downloading artifacts:  14%|#4        | 1/7 [00:00<?, ?it/s]\n",
            "Downloading artifacts:  29%|##8       | 2/7 [00:00<00:00, 1999.67it/s]\n",
            "Downloading artifacts:  43%|####2     | 3/7 [00:00<00:00, 1478.60it/s]\n",
            "Downloading artifacts:  57%|#####7    | 4/7 [00:00<00:00, 1333.32it/s]\n",
            "Downloading artifacts:  71%|#######1  | 5/7 [00:00<00:00, 1250.24it/s]\n",
            "Downloading artifacts:  86%|########5 | 6/7 [00:00<00:00, 1500.29it/s]\n",
            "Downloading artifacts: 100%|##########| 7/7 [00:00<00:00, 1392.99it/s]\n",
            "Downloading artifacts: 100%|##########| 7/7 [00:00<00:00, 1166.80it/s]\n"
          ]
        },
        {
          "name": "stdout",
          "output_type": "stream",
          "text": [
            "🏃 View run XGBoost_trial at: http://127.0.0.1:5000/#/experiments/184415391709998126/runs/dcbe3f67659142f7bd922390eba09f92\n",
            "\n",
            "🧪 View experiment at: http://127.0.0.1:5000/#/experiments/184415391709998126      \n",
            "\n",
            "100%|██████████| 25/25 [01:20<00:00,  3.20s/trial, best loss: 0.024463471894390503]\n",
            "🏃 View run XGBoost_tuning at: http://127.0.0.1:5000/#/experiments/184415391709998126/runs/68220b7c6cdf4fd3be0e649c468385dd\n",
            "🧪 View experiment at: http://127.0.0.1:5000/#/experiments/184415391709998126\n"
          ]
        }
      ],
      "source": [
        "import mlflow\n",
        "import mlflow.sklearn\n",
        "from mlflow.tracking import MlflowClient\n",
        "from hyperopt import fmin, tpe, hp, Trials, STATUS_OK\n",
        "from sklearn.metrics import mean_squared_error, mean_absolute_error\n",
        "from mlflow.models.signature import infer_signature\n",
        "import matplotlib.pyplot as plt\n",
        "import pandas as pd\n",
        "\n",
        "results = []\n",
        "best_overall = {\"rmse\": float(\"inf\"), \"model\": None, \"run_id\": None}\n",
        "\n",
        "for model_name, config in model_params.items():\n",
        "    print(f\"\\n🔍 Tuning: {model_name}\")\n",
        "\n",
        "    space = config[\"space\"]\n",
        "    ModelClass = config[\"model\"]\n",
        "    best_metrics = {\"rmse\": float(\"inf\"), \"mae\": None, \"mse\": None, \"run_id\": None}\n",
        "\n",
        "    def objective(params):\n",
        "        with mlflow.start_run(run_name=f\"{model_name}_trial\", nested=True) as run:\n",
        "            model = ModelClass(**params) if params else ModelClass()\n",
        "            model.fit(X_train, y_train)\n",
        "            preds = model.predict(X_test)\n",
        "\n",
        "            rmse = root_mean_squared_error(y_test, preds)\n",
        "            mae = mean_absolute_error(y_test, preds)\n",
        "            mse = mean_squared_error(y_test, preds)\n",
        "\n",
        "            mlflow.log_params(params)\n",
        "            mlflow.log_metrics({\"rmse\": rmse, \"mae\": mae, \"mse\": mse})\n",
        "            mlflow.sklearn.log_model(model, \"model\", signature=infer_signature(X_train, preds), input_example=X_train)\n",
        "\n",
        "            if rmse < best_metrics[\"rmse\"]:\n",
        "                best_metrics[\"rmse\"] = rmse\n",
        "                best_metrics[\"mae\"] = mae\n",
        "                best_metrics[\"mse\"] = mse\n",
        "                best_metrics[\"run_id\"] = run.info.run_id  # Save nested run ID with best model\n",
        "\n",
        "            return {\"loss\": rmse, \"status\": STATUS_OK}\n",
        "    \n",
        "    with mlflow.start_run(run_name=f\"{model_name}_tuning\") as run:\n",
        "        if space:\n",
        "            trials = Trials()  # started a Trial for hyperparameter tuning\n",
        "            best = fmin(fn=objective, space=space, algo=tpe.suggest, max_evals=25, trials=trials)\n",
        "            mlflow.log_params(best)\n",
        "        else:\n",
        "            model = ModelClass()\n",
        "            model.fit(X_train, y_train)\n",
        "            preds = model.predict(X_test)\n",
        "\n",
        "            rmse = root_mean_squared_error(y_test, preds)\n",
        "            mae = mean_absolute_error(y_test, preds)\n",
        "            mse = mean_squared_error(y_test, preds)\n",
        "\n",
        "            mlflow.log_metrics({\"rmse\": rmse, \"mae\": mae, \"mse\": mse})\n",
        "            mlflow.sklearn.log_model(model, \"model\", signature=infer_signature(X_train, preds), input_example=X_train)\n",
        "            \n",
        "            best_metrics = {\"rmse\": rmse, \"mae\": mae, \"mse\": mse, \"run_id\": run.info.run_id}\n",
        "\n",
        "        # Save best model run for comparison\n",
        "        results.append({\"model\": model_name, **best_metrics})\n",
        "\n",
        "        if best_metrics[\"rmse\"] < best_overall[\"rmse\"]:\n",
        "            best_overall[\"rmse\"] = best_metrics[\"rmse\"]\n",
        "            best_overall[\"model\"] = model_name\n",
        "            best_overall[\"run_id\"] = best_metrics[\"run_id\"]  # Use run with model logged\n"
      ]
    },
    {
      "cell_type": "code",
      "execution_count": null,
      "metadata": {},
      "outputs": [
        {
          "data": {
            "image/png": "[encoded data removed]",
            "text/plain": [
              "<Figure size 800x500 with 1 Axes>"
            ]
          },
          "metadata": {},
          "output_type": "display_data"
        },
        {
          "data": {
            "image/png": "[encoded data removed]",
            "text/plain": [
              "<Figure size 800x500 with 1 Axes>"
            ]
          },
          "metadata": {},
          "output_type": "display_data"
        },
        {
          "data": {
            "image/png": "[encoded data removed]",
            "text/plain": [
              "<Figure size 800x500 with 1 Axes>"
            ]
          },
          "metadata": {},
          "output_type": "display_data"
        }
      ],
      "source": [
        "# create a histogram with the best performing models\n",
        "df_results = pd.DataFrame(results)\n",
        "for metric in [\"rmse\", \"mae\", \"mse\"]:\n",
        "    plt.figure(figsize=(8, 5))\n",
        "    plt.bar(df_results[\"model\"], df_results[metric])\n",
        "    plt.title(f\"{metric.upper()} Comparison\")\n",
        "    plt.ylabel(metric.upper())\n",
        "    plt.xlabel(\"Model\")\n",
        "    plt.tight_layout()\n",
        "    chart_path = f\"{metric}_comparison.png\"\n",
        "    plt.savefig(chart_path)\n",
        "    mlflow.log_artifact(chart_path)\n"
      ]
    },
    {
      "cell_type": "code",
      "execution_count": 21,
      "metadata": {},
      "outputs": [
        {
          "data": {
            "text/html": [
              "<div>\n",
              "<style scoped>\n",
              "    .dataframe tbody tr th:only-of-type {\n",
              "        vertical-align: middle;\n",
              "    }\n",
              "\n",
              "    .dataframe tbody tr th {\n",
              "        vertical-align: top;\n",
              "    }\n",
              "\n",
              "    .dataframe thead th {\n",
              "        text-align: right;\n",
              "    }\n",
              "</style>\n",
              "<table border=\"1\" class=\"dataframe\">\n",
              "  <thead>\n",
              "    <tr style=\"text-align: right;\">\n",
              "      <th></th>\n",
              "      <th>model</th>\n",
              "      <th>rmse</th>\n",
              "      <th>mae</th>\n",
              "      <th>mse</th>\n",
              "    </tr>\n",
              "  </thead>\n",
              "  <tbody>\n",
              "    <tr>\n",
              "      <th>0</th>\n",
              "      <td>LinearRegression</td>\n",
              "      <td>0.009334</td>\n",
              "      <td>0.006876</td>\n",
              "      <td>0.000087</td>\n",
              "    </tr>\n",
              "    <tr>\n",
              "      <th>1</th>\n",
              "      <td>RandomForest</td>\n",
              "      <td>0.067111</td>\n",
              "      <td>0.020034</td>\n",
              "      <td>0.004504</td>\n",
              "    </tr>\n",
              "    <tr>\n",
              "      <th>2</th>\n",
              "      <td>SVR</td>\n",
              "      <td>0.012113</td>\n",
              "      <td>0.009682</td>\n",
              "      <td>0.000147</td>\n",
              "    </tr>\n",
              "    <tr>\n",
              "      <th>3</th>\n",
              "      <td>XGBoost</td>\n",
              "      <td>0.041859</td>\n",
              "      <td>0.014317</td>\n",
              "      <td>0.001752</td>\n",
              "    </tr>\n",
              "  </tbody>\n",
              "</table>\n",
              "</div>"
            ],
            "text/plain": [
              "              model      rmse       mae       mse\n",
              "0  LinearRegression  0.009334  0.006876  0.000087\n",
              "1      RandomForest  0.067111  0.020034  0.004504\n",
              "2               SVR  0.012113  0.009682  0.000147\n",
              "3           XGBoost  0.041859  0.014317  0.001752"
            ]
          },
          "execution_count": 21,
          "metadata": {},
          "output_type": "execute_result"
        }
      ],
      "source": [
        "df_results.head(10)"
      ]
    },
    {
      "cell_type": "markdown",
      "metadata": {},
      "source": [
        "### Model Regitry,Deployment and Monitoring:\n",
        "- registered the best model and set it to 'Production'\n",
        "- set the tracking Ui using '$env:MLFLOW_TRACKING_URI = \"http://127.0.0.1:5000\"'\n",
        "- then served the model using 'mlflow models serve --model-uri models:/Best_Regression_Model/1 --no-conda --port 5001'\n",
        "- sent a POST request with test data to test the served model\n",
        "- created a monitorong run that logs predictions and inference time."
      ]
    },
    {
      "cell_type": "code",
      "execution_count": null,
      "metadata": {},
      "outputs": [
        {
          "name": "stderr",
          "output_type": "stream",
          "text": [
            "Successfully registered model 'Best_Regression_Model'.\n",
            "2025/04/27 20:44:33 INFO mlflow.store.model_registry.abstract_store: Waiting up to 300 seconds for model version to finish creation. Model name: Best_Regression_Model, version 1\n",
            "Created version '1' of model 'Best_Regression_Model'.\n",
            "C:\\Users\\ayakb\\AppData\\Local\\Temp\\ipykernel_12008\\3919503307.py:8: FutureWarning: ``mlflow.tracking.client.MlflowClient.transition_model_version_stage`` is deprecated since 2.9.0. Model registry stages will be removed in a future major release. To learn more about the deprecation of model registry stages, see our migration guide here: https://mlflow.org/docs/latest/model-registry.html#migrating-from-stages\n",
            "  client.transition_model_version_stage(\n"
          ]
        },
        {
          "name": "stdout",
          "output_type": "stream",
          "text": [
            "\n",
            "✅ Registered 'LinearRegression' as the best model (RMSE: 0.0093)\n"
          ]
        }
      ],
      "source": [
        "# register the best model and set it to 'Production'\n",
        "if best_overall[\"run_id\"]:\n",
        "    model_uri = f\"runs:/{best_overall['run_id']}/model\"\n",
        "    registered_model_name = \"Best_Regression_Model\"\n",
        "\n",
        "    result = mlflow.register_model(model_uri=model_uri, name=registered_model_name)\n",
        "\n",
        "    client = MlflowClient()\n",
        "    client.transition_model_version_stage(\n",
        "        name=registered_model_name,\n",
        "        version=result.version,\n",
        "        stage=\"Production\",\n",
        "        archive_existing_versions=True\n",
        "    )\n",
        "\n",
        "    print(f\"\\n✅ Registered '{best_overall['model']}' as the best model (RMSE: {best_overall['rmse']:.4f})\")"
      ]
    },
    {
      "cell_type": "code",
      "execution_count": 27,
      "metadata": {},
      "outputs": [
        {
          "name": "stdout",
          "output_type": "stream",
          "text": [
            "http://127.0.0.1:5000\n"
          ]
        }
      ],
      "source": [
        "print(mlflow.get_tracking_uri())"
      ]
    },
    {
      "cell_type": "code",
      "execution_count": 28,
      "metadata": {},
      "outputs": [
        {
          "name": "stdout",
          "output_type": "stream",
          "text": [
            "Prediction: {'predictions': [1.16587505080282]}\n"
          ]
        }
      ],
      "source": [
        "import requests\n",
        "import json\n",
        "\n",
        "# Feature columns\n",
        "columns = [\n",
        "    \"Global_reactive_power\", \"Voltage\", \"Global_intensity\",\n",
        "    \"Sub_metering_1\", \"Sub_metering_2\", \"Sub_metering_3\",\n",
        "    \"lag_1\", \"lag_2\"\n",
        "]\n",
        "\n",
        "# Input values for one row\n",
        "values = [[\n",
        "    0.104821, 241.999313, 4.926389,\n",
        "    0.582639, 5.279167, 4.303472,\n",
        "    1.530435, 2.354486\n",
        "]]\n",
        "\n",
        "# This time, correctly nested under \"dataframe_split\"\n",
        "payload = {\n",
        "    \"dataframe_split\": {\n",
        "        \"columns\": columns,\n",
        "        \"data\": values\n",
        "    }\n",
        "}\n",
        "\n",
        "# Send the request\n",
        "response = requests.post(\n",
        "    url=\"http://127.0.0.1:5001/invocations\",\n",
        "    headers={\"Content-Type\": \"application/json\"},\n",
        "    data=json.dumps(payload)\n",
        ")\n",
        "\n",
        "# Output\n",
        "print(\"Prediction:\", response.json())\n"
      ]
    },
    {
      "cell_type": "code",
      "execution_count": 30,
      "metadata": {},
      "outputs": [
        {
          "name": "stdout",
          "output_type": "stream",
          "text": [
            "🏃 View run unique-moth-114 at: http://127.0.0.1:5000/#/experiments/1/runs/5f3c2e15a0764ac4a27549e51d65e6f2\n",
            "🧪 View experiment at: http://127.0.0.1:5000/#/experiments/1\n"
          ]
        }
      ],
      "source": [
        "mlflow.end_run()"
      ]
    },
    {
      "cell_type": "code",
      "execution_count": 31,
      "metadata": {},
      "outputs": [
        {
          "name": "stdout",
          "output_type": "stream",
          "text": [
            "MSE logged: 7.737050972578996e-05\n",
            "🏃 View run monitoring_run at: http://127.0.0.1:5000/#/experiments/1/runs/82487c5ed2244a1bb1bae831e9a3c5be\n",
            "🧪 View experiment at: http://127.0.0.1:5000/#/experiments/1\n"
          ]
        }
      ],
      "source": [
        "from sklearn.metrics import mean_squared_error\n",
        "import mlflow\n",
        "\n",
        "# True and predicted values\n",
        "y_true = [1.157079]\n",
        "y_pred = response.json()[\"predictions\"]  # Extract the prediction list\n",
        "\n",
        "# Log metrics\n",
        "with mlflow.start_run(run_name=\"monitoring_run\"):\n",
        "    mse = mean_squared_error(y_true, y_pred)\n",
        "    mlflow.log_metric(\"mse\", mse)\n",
        "    print(\"MSE logged:\", mse)\n"
      ]
    },
    {
      "cell_type": "code",
      "execution_count": 32,
      "metadata": {},
      "outputs": [
        {
          "name": "stdout",
          "output_type": "stream",
          "text": [
            "Response Status Code: 200\n",
            "Response Text: {\"predictions\": [1.0433678731657254]}\n",
            "Response JSON: {'predictions': [1.0433678731657254]}\n",
            "Prediction: 1.0433678731657254\n",
            "🏃 View run model_monitoring at: http://127.0.0.1:5000/#/experiments/1/runs/b5ddcf58c78b441e81d9bb777a855138\n",
            "🧪 View experiment at: http://127.0.0.1:5000/#/experiments/1\n"
          ]
        }
      ],
      "source": [
        "import requests\n",
        "import json\n",
        "import time\n",
        "import mlflow\n",
        "\n",
        "# Start a new MLflow run to log metrics\n",
        "with mlflow.start_run(run_name=\"model_monitoring\"):\n",
        "\n",
        "    # Corrected payload with the new format (using 'instances')\n",
        "    payload = {\n",
        "        \"instances\": [\n",
        "            {\n",
        "                \"Global_reactive_power\": 0.146225156,\n",
        "                \"Voltage\": 240.017637,\n",
        "                \"Global_intensity\": 4.45031272,\n",
        "                \"Sub_metering_1\": 1.42876998,\n",
        "                \"Sub_metering_2\": 2.59416261,\n",
        "                \"Sub_metering_3\": 8.42043085,\n",
        "                \"lag_1\": 0.187794444,\n",
        "                \"lag_2\": 0.185825000\n",
        "            }\n",
        "        ]\n",
        "    }\n",
        "\n",
        "    # Record the start time for inference\n",
        "    start_time = time.time()\n",
        "\n",
        "    # Send POST request to the served model\n",
        "    response = requests.post(\n",
        "        url=\"http://127.0.0.1:5001/invocations\",\n",
        "        headers={\"Content-Type\": \"application/json\"},\n",
        "        data=json.dumps(payload)\n",
        "    )\n",
        "\n",
        "    # Calculate inference time\n",
        "    inference_time = time.time() - start_time\n",
        "\n",
        "    # Print the full response text for debugging\n",
        "    print(f\"Response Status Code: {response.status_code}\")\n",
        "    print(f\"Response Text: {response.text}\")\n",
        "\n",
        "    if response.status_code == 200:\n",
        "        response_data = response.json()\n",
        "        print(f\"Response JSON: {response_data}\")  # Print the raw response for debugging\n",
        "\n",
        "        if \"predictions\" in response_data:\n",
        "            prediction = response_data[\"predictions\"][0]  # Adjusted to use 'predictions' instead of 'prediction'\n",
        "            print(f\"Prediction: {prediction}\")\n",
        "            \n",
        "            # Log metrics to MLflow\n",
        "            mlflow.log_metric(\"inference_time\", inference_time)\n",
        "            mlflow.log_metric(\"prediction\", prediction)  # Example: logging the prediction as a metric\n",
        "        else:\n",
        "            print(\"Predictions key not found in response.\")\n",
        "    else:\n",
        "        print(f\"Error: {response.status_code}\")\n"
      ]
    }
  ],
  "metadata": {
    "colab": {
      "provenance": []
    },
    "kernelspec": {
      "display_name": ".venv",
      "language": "python",
      "name": "python3"
    },
    "language_info": {
      "codemirror_mode": {
        "name": "ipython",
        "version": 3
      },
      "file_extension": ".py",
      "mimetype": "text/x-python",
      "name": "python",
      "nbconvert_exporter": "python",
      "pygments_lexer": "ipython3",
      "version": "3.12.8"
    }
  },
  "nbformat": 4,
  "nbformat_minor": 0
}
